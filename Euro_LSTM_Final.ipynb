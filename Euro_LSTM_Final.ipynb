{
  "nbformat": 4,
  "nbformat_minor": 0,
  "metadata": {
    "colab": {
      "name": "Euro_LSTM_Final.ipynb",
      "provenance": [],
      "collapsed_sections": [],
      "toc_visible": true
    },
    "kernelspec": {
      "name": "python3",
      "display_name": "Python 3"
    }
  },
  "cells": [
    {
      "cell_type": "markdown",
      "metadata": {
        "id": "ros4cyTJkC0S",
        "colab_type": "text"
      },
      "source": [
        "# **Euro to Inr Exchange rate prediciton using LSTM**"
      ]
    },
    {
      "cell_type": "code",
      "metadata": {
        "id": "E9WgpDg07xOq",
        "colab_type": "code",
        "colab": {}
      },
      "source": [
        "#import necessary package\n",
        "import pandas as pd\n",
        "import numpy as np\n",
        "import matplotlib.pyplot as plt\n",
        "%matplotlib inline\n",
        "\n",
        "from sklearn.preprocessing import MinMaxScaler\n",
        "from keras import optimizers\n",
        "import keras\n",
        "from keras.models import Sequential\n",
        "from keras.layers import Dense, LSTM\n",
        "import keras.backend as K\n",
        "\n",
        "import tqdm"
      ],
      "execution_count": 0,
      "outputs": []
    },
    {
      "cell_type": "markdown",
      "metadata": {
        "id": "CDE_n4-lkYTw",
        "colab_type": "text"
      },
      "source": [
        "**Dataset**\n",
        "The dataset was collected from https://in.investing.com/currencies/eur-inr-historical-data. Create an account and download the dataset or just go to my github repository to collect the dataset."
      ]
    },
    {
      "cell_type": "code",
      "metadata": {
        "id": "g8sZ4Ty98JaH",
        "colab_type": "code",
        "colab": {}
      },
      "source": [
        "a = pd.read_csv('data.csv')"
      ],
      "execution_count": 0,
      "outputs": []
    },
    {
      "cell_type": "code",
      "metadata": {
        "id": "m6a-miUh8ko5",
        "colab_type": "code",
        "outputId": "d5be9346-df85-4b88-eefa-111e1a0c2b39",
        "colab": {
          "base_uri": "https://localhost:8080/",
          "height": 357
        }
      },
      "source": [
        "df = a[['Date', 'Price']]\n",
        "df.columns = ['date', 'price']\n",
        "df['date'] = pd.to_datetime(df['date'])\n",
        "df = df.set_index('date')\n",
        "df = df.sort_values(by='date')\n",
        "# df = df.reset_index(drop=True)\n",
        "df.tail()"
      ],
      "execution_count": 139,
      "outputs": [
        {
          "output_type": "stream",
          "text": [
            "/usr/local/lib/python3.6/dist-packages/ipykernel_launcher.py:3: SettingWithCopyWarning: \n",
            "A value is trying to be set on a copy of a slice from a DataFrame.\n",
            "Try using .loc[row_indexer,col_indexer] = value instead\n",
            "\n",
            "See the caveats in the documentation: http://pandas.pydata.org/pandas-docs/stable/indexing.html#indexing-view-versus-copy\n",
            "  This is separate from the ipykernel package so we can avoid doing imports until\n"
          ],
          "name": "stderr"
        },
        {
          "output_type": "execute_result",
          "data": {
            "text/html": [
              "<div>\n",
              "<style scoped>\n",
              "    .dataframe tbody tr th:only-of-type {\n",
              "        vertical-align: middle;\n",
              "    }\n",
              "\n",
              "    .dataframe tbody tr th {\n",
              "        vertical-align: top;\n",
              "    }\n",
              "\n",
              "    .dataframe thead th {\n",
              "        text-align: right;\n",
              "    }\n",
              "</style>\n",
              "<table border=\"1\" class=\"dataframe\">\n",
              "  <thead>\n",
              "    <tr style=\"text-align: right;\">\n",
              "      <th></th>\n",
              "      <th>price</th>\n",
              "    </tr>\n",
              "    <tr>\n",
              "      <th>date</th>\n",
              "      <th></th>\n",
              "    </tr>\n",
              "  </thead>\n",
              "  <tbody>\n",
              "    <tr>\n",
              "      <th>2019-10-07</th>\n",
              "      <td>77.8675</td>\n",
              "    </tr>\n",
              "    <tr>\n",
              "      <th>2019-10-08</th>\n",
              "      <td>78.0285</td>\n",
              "    </tr>\n",
              "    <tr>\n",
              "      <th>2019-10-09</th>\n",
              "      <td>78.0260</td>\n",
              "    </tr>\n",
              "    <tr>\n",
              "      <th>2019-10-10</th>\n",
              "      <td>78.1635</td>\n",
              "    </tr>\n",
              "    <tr>\n",
              "      <th>2019-10-11</th>\n",
              "      <td>78.3215</td>\n",
              "    </tr>\n",
              "  </tbody>\n",
              "</table>\n",
              "</div>"
            ],
            "text/plain": [
              "              price\n",
              "date               \n",
              "2019-10-07  77.8675\n",
              "2019-10-08  78.0285\n",
              "2019-10-09  78.0260\n",
              "2019-10-10  78.1635\n",
              "2019-10-11  78.3215"
            ]
          },
          "metadata": {
            "tags": []
          },
          "execution_count": 139
        }
      ]
    },
    {
      "cell_type": "code",
      "metadata": {
        "id": "w4Ab8t8meQo8",
        "colab_type": "code",
        "outputId": "9ecaeec8-7222-4361-cc1d-6fe1cde852b2",
        "colab": {
          "base_uri": "https://localhost:8080/",
          "height": 51
        }
      },
      "source": [
        "df.iloc[3500]"
      ],
      "execution_count": 140,
      "outputs": [
        {
          "output_type": "execute_result",
          "data": {
            "text/plain": [
              "price    67.592\n",
              "Name: 2015-04-19 00:00:00, dtype: float64"
            ]
          },
          "metadata": {
            "tags": []
          },
          "execution_count": 140
        }
      ]
    },
    {
      "cell_type": "code",
      "metadata": {
        "id": "2hHGQ_IT8ySI",
        "colab_type": "code",
        "outputId": "2f0efa99-0172-44db-8903-f8b75d9f1490",
        "colab": {
          "base_uri": "https://localhost:8080/",
          "height": 290
        }
      },
      "source": [
        "df.plot()"
      ],
      "execution_count": 141,
      "outputs": [
        {
          "output_type": "execute_result",
          "data": {
            "text/plain": [
              "<matplotlib.axes._subplots.AxesSubplot at 0x7f2b2abce908>"
            ]
          },
          "metadata": {
            "tags": []
          },
          "execution_count": 141
        },
        {
          "output_type": "display_data",
          "data": {
            "image/png": "[encoded data removed]",
            "text/plain": [
              "<Figure size 432x288 with 1 Axes>"
            ]
          },
          "metadata": {
            "tags": []
          }
        }
      ]
    },
    {
      "cell_type": "code",
      "metadata": {
        "id": "iBFsPpbH9o9g",
        "colab_type": "code",
        "colab": {}
      },
      "source": [
        "split_date = pd.Timestamp('2015-04-19')"
      ],
      "execution_count": 0,
      "outputs": []
    },
    {
      "cell_type": "code",
      "metadata": {
        "id": "c8M1LGvr9sw-",
        "colab_type": "code",
        "colab": {}
      },
      "source": [
        "train = df.loc[:split_date, ['price']]\n",
        "test = df.loc[split_date:, ['price']]"
      ],
      "execution_count": 0,
      "outputs": []
    },
    {
      "cell_type": "code",
      "metadata": {
        "id": "NmPE_eht9ulN",
        "colab_type": "code",
        "outputId": "ecb2693d-73c2-4747-8181-8ffd30135a54",
        "colab": {
          "base_uri": "https://localhost:8080/",
          "height": 290
        }
      },
      "source": [
        "ax = train.plot()\n",
        "test.plot(ax=ax)\n",
        "plt.legend(['train', 'test'])"
      ],
      "execution_count": 144,
      "outputs": [
        {
          "output_type": "execute_result",
          "data": {
            "text/plain": [
              "<matplotlib.legend.Legend at 0x7f2b2c97ebe0>"
            ]
          },
          "metadata": {
            "tags": []
          },
          "execution_count": 144
        },
        {
          "output_type": "display_data",
          "data": {
            "image/png": "[encoded data removed]",
            "text/plain": [
              "<Figure size 432x288 with 1 Axes>"
            ]
          },
          "metadata": {
            "tags": []
          }
        }
      ]
    },
    {
      "cell_type": "code",
      "metadata": {
        "id": "LNY5nORb98ki",
        "colab_type": "code",
        "colab": {}
      },
      "source": [
        "sc = MinMaxScaler()\n",
        "\n",
        "train_sc = sc.fit_transform(train)\n",
        "test_sc = sc.transform(test)"
      ],
      "execution_count": 0,
      "outputs": []
    },
    {
      "cell_type": "code",
      "metadata": {
        "id": "aVgMIF8l-GV6",
        "colab_type": "code",
        "outputId": "bfb1a488-e870-4016-f974-b10925439436",
        "colab": {
          "base_uri": "https://localhost:8080/",
          "height": 85
        }
      },
      "source": [
        "train_sc[:4]"
      ],
      "execution_count": 148,
      "outputs": [
        {
          "output_type": "execute_result",
          "data": {
            "text/plain": [
              "array([[0.02659209],\n",
              "       [0.02197047],\n",
              "       [0.02290664],\n",
              "       [0.02295404]])"
            ]
          },
          "metadata": {
            "tags": []
          },
          "execution_count": 148
        }
      ]
    },
    {
      "cell_type": "code",
      "metadata": {
        "id": "OVxMutDu-IdG",
        "colab_type": "code",
        "outputId": "463ae3c2-cd06-43c9-bb6f-9c8150c4090d",
        "colab": {
          "base_uri": "https://localhost:8080/",
          "height": 204
        }
      },
      "source": [
        "train[:4]"
      ],
      "execution_count": 147,
      "outputs": [
        {
          "output_type": "execute_result",
          "data": {
            "text/html": [
              "<div>\n",
              "<style scoped>\n",
              "    .dataframe tbody tr th:only-of-type {\n",
              "        vertical-align: middle;\n",
              "    }\n",
              "\n",
              "    .dataframe tbody tr th {\n",
              "        vertical-align: top;\n",
              "    }\n",
              "\n",
              "    .dataframe thead th {\n",
              "        text-align: right;\n",
              "    }\n",
              "</style>\n",
              "<table border=\"1\" class=\"dataframe\">\n",
              "  <thead>\n",
              "    <tr style=\"text-align: right;\">\n",
              "      <th></th>\n",
              "      <th>price</th>\n",
              "    </tr>\n",
              "    <tr>\n",
              "      <th>date</th>\n",
              "      <th></th>\n",
              "    </tr>\n",
              "  </thead>\n",
              "  <tbody>\n",
              "    <tr>\n",
              "      <th>2003-01-10</th>\n",
              "      <td>50.7115</td>\n",
              "    </tr>\n",
              "    <tr>\n",
              "      <th>2003-01-13</th>\n",
              "      <td>50.5165</td>\n",
              "    </tr>\n",
              "    <tr>\n",
              "      <th>2003-01-14</th>\n",
              "      <td>50.5560</td>\n",
              "    </tr>\n",
              "    <tr>\n",
              "      <th>2003-01-15</th>\n",
              "      <td>50.5580</td>\n",
              "    </tr>\n",
              "  </tbody>\n",
              "</table>\n",
              "</div>"
            ],
            "text/plain": [
              "              price\n",
              "date               \n",
              "2003-01-10  50.7115\n",
              "2003-01-13  50.5165\n",
              "2003-01-14  50.5560\n",
              "2003-01-15  50.5580"
            ]
          },
          "metadata": {
            "tags": []
          },
          "execution_count": 147
        }
      ]
    },
    {
      "cell_type": "code",
      "metadata": {
        "id": "f8SXbp_B-K12",
        "colab_type": "code",
        "colab": {}
      },
      "source": [
        "X_train = train_sc[:-1]\n",
        "y_train = train_sc[1:]\n",
        "\n",
        "X_test = test_sc[:-1]\n",
        "y_test = test_sc[1:]"
      ],
      "execution_count": 0,
      "outputs": []
    },
    {
      "cell_type": "code",
      "metadata": {
        "id": "_hK3rWK1-NCn",
        "colab_type": "code",
        "outputId": "9f7843b0-5cc5-4f51-9b60-bfcad0cec08c",
        "colab": {
          "base_uri": "https://localhost:8080/",
          "height": 34
        }
      },
      "source": [
        "train_sc.shape"
      ],
      "execution_count": 150,
      "outputs": [
        {
          "output_type": "execute_result",
          "data": {
            "text/plain": [
              "(3501, 1)"
            ]
          },
          "metadata": {
            "tags": []
          },
          "execution_count": 150
        }
      ]
    },
    {
      "cell_type": "code",
      "metadata": {
        "id": "wByyL1iL-QhY",
        "colab_type": "code",
        "outputId": "97f131b2-6147-4584-b49c-202cc73ab3d7",
        "colab": {
          "base_uri": "https://localhost:8080/",
          "height": 136
        }
      },
      "source": [
        "y_train"
      ],
      "execution_count": 151,
      "outputs": [
        {
          "output_type": "execute_result",
          "data": {
            "text/plain": [
              "array([[0.02197047],\n",
              "       [0.02290664],\n",
              "       [0.02295404],\n",
              "       ...,\n",
              "       [0.41413268],\n",
              "       [0.4268125 ],\n",
              "       [0.4266703 ]])"
            ]
          },
          "metadata": {
            "tags": []
          },
          "execution_count": 151
        }
      ]
    },
    {
      "cell_type": "code",
      "metadata": {
        "id": "Tu4V3RM4-Sfv",
        "colab_type": "code",
        "colab": {}
      },
      "source": [
        "X_train_t = X_train[:, None]\n",
        "X_test_t = X_test[:, None]"
      ],
      "execution_count": 0,
      "outputs": []
    },
    {
      "cell_type": "code",
      "metadata": {
        "id": "Qb7_nPEs-Ycn",
        "colab_type": "code",
        "outputId": "599a7fec-a80f-40df-c976-b61fd726ccc3",
        "colab": {
          "base_uri": "https://localhost:8080/",
          "height": 34
        }
      },
      "source": [
        "X_train_t.shape"
      ],
      "execution_count": 153,
      "outputs": [
        {
          "output_type": "execute_result",
          "data": {
            "text/plain": [
              "(3500, 1, 1)"
            ]
          },
          "metadata": {
            "tags": []
          },
          "execution_count": 153
        }
      ]
    },
    {
      "cell_type": "code",
      "metadata": {
        "id": "GHq_NAdZI_Ok",
        "colab_type": "code",
        "colab": {}
      },
      "source": [
        "num_units = 4\n",
        "activation_function = 'sigmoid'\n",
        "optimizer = 'adam'\n",
        "loss_function = 'mean_squared_error'\n",
        "batch_size = 60\n",
        "num_epochs = 60\n",
        "\n",
        "# Initialize the RNN\n",
        "regressor = Sequential()\n",
        "\n",
        "# Adding the input layer and the LSTM layer\n",
        "regressor.add(LSTM(units = num_units, activation = activation_function, input_shape=(1, 1)))\n",
        "\n",
        "# Adding the output layer\n",
        "regressor.add(Dense(units = 1))\n",
        "\n",
        "# Compiling the RNN\n",
        "regressor.compile(optimizer = optimizer, loss = loss_function)\n",
        "\n",
        "# Using the training set to train the model\n"
      ],
      "execution_count": 0,
      "outputs": []
    },
    {
      "cell_type": "code",
      "metadata": {
        "id": "ed6W6UPgJE-p",
        "colab_type": "code",
        "outputId": "19da0483-cac6-4cc7-8733-640602db84e7",
        "colab": {
          "base_uri": "https://localhost:8080/",
          "height": 1000
        }
      },
      "source": [
        "regressor.fit(X_train_t, y_train, batch_size = batch_size, epochs = num_epochs)"
      ],
      "execution_count": 158,
      "outputs": [
        {
          "output_type": "stream",
          "text": [
            "Epoch 1/60\n",
            "3500/3500 [==============================] - 5s 1ms/step - loss: 0.1037\n",
            "Epoch 2/60\n",
            "3500/3500 [==============================] - 0s 54us/step - loss: 0.0646\n",
            "Epoch 3/60\n",
            "3500/3500 [==============================] - 0s 58us/step - loss: 0.0519\n",
            "Epoch 4/60\n",
            "3500/3500 [==============================] - 0s 57us/step - loss: 0.0477\n",
            "Epoch 5/60\n",
            "3500/3500 [==============================] - 0s 59us/step - loss: 0.0456\n",
            "Epoch 6/60\n",
            "3500/3500 [==============================] - 0s 60us/step - loss: 0.0440\n",
            "Epoch 7/60\n",
            "3500/3500 [==============================] - 0s 59us/step - loss: 0.0425\n",
            "Epoch 8/60\n",
            "3500/3500 [==============================] - 0s 61us/step - loss: 0.0410\n",
            "Epoch 9/60\n",
            "3500/3500 [==============================] - 0s 59us/step - loss: 0.0396\n",
            "Epoch 10/60\n",
            "3500/3500 [==============================] - 0s 65us/step - loss: 0.0382\n",
            "Epoch 11/60\n",
            "3500/3500 [==============================] - 0s 57us/step - loss: 0.0368\n",
            "Epoch 12/60\n",
            "3500/3500 [==============================] - 0s 60us/step - loss: 0.0354\n",
            "Epoch 13/60\n",
            "3500/3500 [==============================] - 0s 57us/step - loss: 0.0341\n",
            "Epoch 14/60\n",
            "3500/3500 [==============================] - 0s 59us/step - loss: 0.0327\n",
            "Epoch 15/60\n",
            "3500/3500 [==============================] - 0s 56us/step - loss: 0.0312\n",
            "Epoch 16/60\n",
            "3500/3500 [==============================] - 0s 57us/step - loss: 0.0298\n",
            "Epoch 17/60\n",
            "3500/3500 [==============================] - 0s 57us/step - loss: 0.0283\n",
            "Epoch 18/60\n",
            "3500/3500 [==============================] - 0s 57us/step - loss: 0.0268\n",
            "Epoch 19/60\n",
            "3500/3500 [==============================] - 0s 61us/step - loss: 0.0253\n",
            "Epoch 20/60\n",
            "3500/3500 [==============================] - 0s 60us/step - loss: 0.0237\n",
            "Epoch 21/60\n",
            "3500/3500 [==============================] - 0s 55us/step - loss: 0.0221\n",
            "Epoch 22/60\n",
            "3500/3500 [==============================] - 0s 54us/step - loss: 0.0204\n",
            "Epoch 23/60\n",
            "3500/3500 [==============================] - 0s 52us/step - loss: 0.0187\n",
            "Epoch 24/60\n",
            "3500/3500 [==============================] - 0s 56us/step - loss: 0.0171\n",
            "Epoch 25/60\n",
            "3500/3500 [==============================] - 0s 57us/step - loss: 0.0154\n",
            "Epoch 26/60\n",
            "3500/3500 [==============================] - 0s 59us/step - loss: 0.0138\n",
            "Epoch 27/60\n",
            "3500/3500 [==============================] - 0s 56us/step - loss: 0.0121\n",
            "Epoch 28/60\n",
            "3500/3500 [==============================] - 0s 56us/step - loss: 0.0106\n",
            "Epoch 29/60\n",
            "3500/3500 [==============================] - 0s 53us/step - loss: 0.0091\n",
            "Epoch 30/60\n",
            "3500/3500 [==============================] - 0s 59us/step - loss: 0.0077\n",
            "Epoch 31/60\n",
            "3500/3500 [==============================] - 0s 53us/step - loss: 0.0064\n",
            "Epoch 32/60\n",
            "3500/3500 [==============================] - 0s 53us/step - loss: 0.0053\n",
            "Epoch 33/60\n",
            "3500/3500 [==============================] - 0s 52us/step - loss: 0.0043\n",
            "Epoch 34/60\n",
            "3500/3500 [==============================] - 0s 54us/step - loss: 0.0034\n",
            "Epoch 35/60\n",
            "3500/3500 [==============================] - 0s 52us/step - loss: 0.0027\n",
            "Epoch 36/60\n",
            "3500/3500 [==============================] - 0s 56us/step - loss: 0.0020\n",
            "Epoch 37/60\n",
            "3500/3500 [==============================] - 0s 57us/step - loss: 0.0015\n",
            "Epoch 38/60\n",
            "3500/3500 [==============================] - 0s 56us/step - loss: 0.0012\n",
            "Epoch 39/60\n",
            "3500/3500 [==============================] - 0s 55us/step - loss: 8.6258e-04\n",
            "Epoch 40/60\n",
            "3500/3500 [==============================] - 0s 54us/step - loss: 6.4045e-04\n",
            "Epoch 41/60\n",
            "3500/3500 [==============================] - 0s 52us/step - loss: 4.7694e-04\n",
            "Epoch 42/60\n",
            "3500/3500 [==============================] - 0s 58us/step - loss: 3.6135e-04\n",
            "Epoch 43/60\n",
            "3500/3500 [==============================] - 0s 55us/step - loss: 2.8006e-04\n",
            "Epoch 44/60\n",
            "3500/3500 [==============================] - 0s 60us/step - loss: 2.2470e-04\n",
            "Epoch 45/60\n",
            "3500/3500 [==============================] - 0s 54us/step - loss: 1.8778e-04\n",
            "Epoch 46/60\n",
            "3500/3500 [==============================] - 0s 57us/step - loss: 1.6374e-04\n",
            "Epoch 47/60\n",
            "3500/3500 [==============================] - 0s 55us/step - loss: 1.4842e-04\n",
            "Epoch 48/60\n",
            "3500/3500 [==============================] - 0s 53us/step - loss: 1.3886e-04\n",
            "Epoch 49/60\n",
            "3500/3500 [==============================] - 0s 53us/step - loss: 1.3307e-04\n",
            "Epoch 50/60\n",
            "3500/3500 [==============================] - 0s 51us/step - loss: 1.2932e-04\n",
            "Epoch 51/60\n",
            "3500/3500 [==============================] - 0s 55us/step - loss: 1.2709e-04\n",
            "Epoch 52/60\n",
            "3500/3500 [==============================] - 0s 54us/step - loss: 1.2567e-04\n",
            "Epoch 53/60\n",
            "3500/3500 [==============================] - 0s 55us/step - loss: 1.2470e-04\n",
            "Epoch 54/60\n",
            "3500/3500 [==============================] - 0s 54us/step - loss: 1.2421e-04\n",
            "Epoch 55/60\n",
            "3500/3500 [==============================] - 0s 53us/step - loss: 1.2353e-04\n",
            "Epoch 56/60\n",
            "3500/3500 [==============================] - 0s 53us/step - loss: 1.2338e-04\n",
            "Epoch 57/60\n",
            "3500/3500 [==============================] - 0s 52us/step - loss: 1.2276e-04\n",
            "Epoch 58/60\n",
            "3500/3500 [==============================] - 0s 57us/step - loss: 1.2234e-04\n",
            "Epoch 59/60\n",
            "3500/3500 [==============================] - 0s 53us/step - loss: 1.2208e-04\n",
            "Epoch 60/60\n",
            "3500/3500 [==============================] - 0s 53us/step - loss: 1.2157e-04\n"
          ],
          "name": "stdout"
        },
        {
          "output_type": "execute_result",
          "data": {
            "text/plain": [
              "<keras.callbacks.History at 0x7f2b29a783c8>"
            ]
          },
          "metadata": {
            "tags": []
          },
          "execution_count": 158
        }
      ]
    },
    {
      "cell_type": "code",
      "metadata": {
        "id": "D2eCKXVC-zQn",
        "colab_type": "code",
        "outputId": "3899391d-1d62-4530-bb4b-c5d303ce3c93",
        "colab": {
          "base_uri": "https://localhost:8080/",
          "height": 286
        }
      },
      "source": [
        "y_pred = regressor.predict(X_test_t)\n",
        "plt.figure()\n",
        "plt.plot(y_test)\n",
        "plt.plot(y_pred)\n",
        "plt.legend(['real', 'predict'])"
      ],
      "execution_count": 159,
      "outputs": [
        {
          "output_type": "execute_result",
          "data": {
            "text/plain": [
              "<matplotlib.legend.Legend at 0x7f2b296e1a20>"
            ]
          },
          "metadata": {
            "tags": []
          },
          "execution_count": 159
        },
        {
          "output_type": "display_data",
          "data": {
            "image/png": "[encoded data removed]",
            "text/plain": [
              "<Figure size 432x288 with 1 Axes>"
            ]
          },
          "metadata": {
            "tags": []
          }
        }
      ]
    },
    {
      "cell_type": "code",
      "metadata": {
        "id": "bD8hT5nY_GU4",
        "colab_type": "code",
        "colab": {}
      },
      "source": [
        "regressor.save('model.h5')\n"
      ],
      "execution_count": 0,
      "outputs": []
    },
    {
      "cell_type": "code",
      "metadata": {
        "id": "VLPqn9kV_BNx",
        "colab_type": "code",
        "colab": {}
      },
      "source": [
        "from keras.models import load_model\n",
        "model = load_model('model.h5')\n",
        "def predict_torrmow():\n",
        "    \n",
        "\n",
        "\n",
        "\n",
        "    train = df[[\"price\"]]\n",
        "    sc = MinMaxScaler()\n",
        "\n",
        "    train_sc = sc.fit_transform(train)\n",
        "    X_train = train_sc[:-1]\n",
        "    y_train = train_sc[1:]\n",
        "    X_train_t = X_train[:, None]\n",
        "\n",
        "    y_pred = model.predict(X_train_t)\n",
        "    result = sc.inverse_transform(y_pred)[-2:]\n",
        "    today = result[0][0]\n",
        "    tomorrow =result[1][0]\n",
        "    output = \"flat\"\n",
        "    if tomorrow > today:\n",
        "        output = \"up\"\n",
        "    elif tomorrow < today:\n",
        "        output = \"down\"\n",
        "    return output, tomorrow"
      ],
      "execution_count": 0,
      "outputs": []
    },
    {
      "cell_type": "markdown",
      "metadata": {
        "id": "Nx7r3Gni1SUE",
        "colab_type": "text"
      },
      "source": [
        "# Prediction for the next 30 days "
      ]
    },
    {
      "cell_type": "markdown",
      "metadata": {
        "id": "Ay9j814MnoCt",
        "colab_type": "text"
      },
      "source": [
        "Create data_predicted.csv\n"
      ]
    },
    {
      "cell_type": "code",
      "metadata": {
        "id": "7pXKqjElpH88",
        "colab_type": "code",
        "colab": {}
      },
      "source": [
        "# df3 =  pd.DataFrame(columns=[\"date\",\"trend\",\"price\"])\n",
        "# df3.to_csv('data_predicted.csv')"
      ],
      "execution_count": 0,
      "outputs": []
    },
    {
      "cell_type": "code",
      "metadata": {
        "id": "06Msl1mi_LnO",
        "colab_type": "code",
        "outputId": "9dbb8480-c5d6-4753-b9a3-9f107c8b50a1",
        "colab": {
          "base_uri": "https://localhost:8080/",
          "height": 1000
        }
      },
      "source": [
        "for i in range(30):\n",
        "\n",
        "  sign, price = predict_torrmow()\n",
        "  print(i)\n",
        "  print(sign,price)\n",
        "\n",
        "  x = pd.DatetimeIndex(df.iloc[-1:].index.values) + pd.DateOffset(1)\n",
        "  ts = pd.to_datetime(x[0])\n",
        "  tomorrow = ts.strftime('%Y-%m-%d')\n",
        "\n",
        "  new_df = pd.DataFrame([[tomorrow,price]],columns=[\"date\",\"price\"])\n",
        "  new_df['date'] = pd.to_datetime(new_df['date'])\n",
        "  new_df = new_df.set_index('date')\n",
        "\n",
        "  df = df.append(new_df)\n",
        "  df[\"price\"] = df[\"price\"].astype(float)\n",
        "  df.to_csv(\"data.csv\")\n",
        "  new_df_predict = pd.DataFrame([[tomorrow, sign, price]], columns=[\"date\",\"trend\",\"price\"])\n",
        "  df_predict = pd.read_csv(\"data_predicted.csv\")\n",
        "  if i>1:\n",
        "    check_date = pd.DatetimeIndex(df_predict.iloc[-1:][\"date\"].values).strftime('%Y-%m-%d')[0]\n",
        "  try:\n",
        "      days = df.iloc[df.index.get_loc(check_date)-1: df.index.get_loc(check_date)+1]\n",
        "  except:\n",
        "      days = df.iloc[-2:]\n",
        "  today_price = days.iloc[1][\"price\"]\n",
        "  yesterday_price = days.iloc[0][\"price\"]\n",
        "  real_sign = \"flat\"\n",
        "  if today_price > yesterday_price:\n",
        "      real_sign = \"up\"\n",
        "  elif today_price < yesterday_price:\n",
        "      real_sign = \"down\"\n",
        "  df_predict = df_predict.append(new_df_predict, ignore_index=True, sort = True)\n",
        "  df_predict.to_csv(\"data_predicted.csv\", index=False)"
      ],
      "execution_count": 162,
      "outputs": [
        {
          "output_type": "stream",
          "text": [
            "0\n",
            "up 78.318474\n",
            "1\n",
            "up 78.48368\n",
            "2\n",
            "down 78.48051\n",
            "3\n",
            "up 78.65333\n",
            "4\n",
            "down 78.65\n",
            "5\n",
            "up 78.83085\n",
            "6\n",
            "down 78.82736\n",
            "7\n",
            "up 79.016685\n",
            "8\n",
            "down 79.01303\n",
            "9\n",
            "up 79.21131\n",
            "10\n",
            "down 79.20748\n",
            "11\n",
            "up 79.41522\n",
            "12\n",
            "down 79.41121\n",
            "13\n",
            "up 79.62895\n",
            "14\n",
            "down 79.62475\n",
            "15\n",
            "up 79.85309\n",
            "16\n",
            "down 79.84868\n",
            "17\n",
            "up 80.08824\n",
            "18\n",
            "down 80.08361\n",
            "19\n",
            "up 80.33506\n",
            "20\n",
            "down 80.3302\n",
            "21\n",
            "up 80.59427\n",
            "22\n",
            "down 80.589165\n",
            "23\n",
            "up 80.86662\n",
            "24\n",
            "down 80.86126\n",
            "25\n",
            "up 81.15294\n",
            "26\n",
            "down 81.1473\n",
            "27\n",
            "up 81.4541\n",
            "28\n",
            "down 81.44817\n",
            "29\n",
            "up 81.75731\n"
          ],
          "name": "stdout"
        }
      ]
    },
    {
      "cell_type": "code",
      "metadata": {
        "id": "QIc06KAiD2Sl",
        "colab_type": "code",
        "colab": {}
      },
      "source": [
        "df.tail(10)"
      ],
      "execution_count": 0,
      "outputs": []
    },
    {
      "cell_type": "code",
      "metadata": {
        "id": "AVUTUsgkiHdh",
        "colab_type": "code",
        "outputId": "253b2efd-e2a1-45d7-c114-7c81de9309e5",
        "colab": {
          "base_uri": "https://localhost:8080/",
          "height": 1000
        }
      },
      "source": [
        "df_predict"
      ],
      "execution_count": 163,
      "outputs": [
        {
          "output_type": "execute_result",
          "data": {
            "text/html": [
              "<div>\n",
              "<style scoped>\n",
              "    .dataframe tbody tr th:only-of-type {\n",
              "        vertical-align: middle;\n",
              "    }\n",
              "\n",
              "    .dataframe tbody tr th {\n",
              "        vertical-align: top;\n",
              "    }\n",
              "\n",
              "    .dataframe thead th {\n",
              "        text-align: right;\n",
              "    }\n",
              "</style>\n",
              "<table border=\"1\" class=\"dataframe\">\n",
              "  <thead>\n",
              "    <tr style=\"text-align: right;\">\n",
              "      <th></th>\n",
              "      <th>Unnamed: 0</th>\n",
              "      <th>date</th>\n",
              "      <th>price</th>\n",
              "      <th>trend</th>\n",
              "    </tr>\n",
              "  </thead>\n",
              "  <tbody>\n",
              "    <tr>\n",
              "      <th>0</th>\n",
              "      <td>NaN</td>\n",
              "      <td>2019-10-13</td>\n",
              "      <td>77.298012</td>\n",
              "      <td>up</td>\n",
              "    </tr>\n",
              "    <tr>\n",
              "      <th>1</th>\n",
              "      <td>NaN</td>\n",
              "      <td>2019-10-14</td>\n",
              "      <td>76.207481</td>\n",
              "      <td>down</td>\n",
              "    </tr>\n",
              "    <tr>\n",
              "      <th>2</th>\n",
              "      <td>NaN</td>\n",
              "      <td>2019-10-15</td>\n",
              "      <td>76.344589</td>\n",
              "      <td>up</td>\n",
              "    </tr>\n",
              "    <tr>\n",
              "      <th>3</th>\n",
              "      <td>NaN</td>\n",
              "      <td>2019-10-16</td>\n",
              "      <td>75.329010</td>\n",
              "      <td>down</td>\n",
              "    </tr>\n",
              "    <tr>\n",
              "      <th>4</th>\n",
              "      <td>NaN</td>\n",
              "      <td>2019-10-17</td>\n",
              "      <td>75.456673</td>\n",
              "      <td>up</td>\n",
              "    </tr>\n",
              "    <tr>\n",
              "      <th>5</th>\n",
              "      <td>NaN</td>\n",
              "      <td>2019-10-18</td>\n",
              "      <td>74.511185</td>\n",
              "      <td>down</td>\n",
              "    </tr>\n",
              "    <tr>\n",
              "      <th>6</th>\n",
              "      <td>NaN</td>\n",
              "      <td>2019-10-19</td>\n",
              "      <td>74.630020</td>\n",
              "      <td>up</td>\n",
              "    </tr>\n",
              "    <tr>\n",
              "      <th>7</th>\n",
              "      <td>NaN</td>\n",
              "      <td>2019-10-20</td>\n",
              "      <td>73.750076</td>\n",
              "      <td>down</td>\n",
              "    </tr>\n",
              "    <tr>\n",
              "      <th>8</th>\n",
              "      <td>NaN</td>\n",
              "      <td>2019-10-21</td>\n",
              "      <td>73.860657</td>\n",
              "      <td>up</td>\n",
              "    </tr>\n",
              "    <tr>\n",
              "      <th>9</th>\n",
              "      <td>NaN</td>\n",
              "      <td>2019-10-22</td>\n",
              "      <td>73.042007</td>\n",
              "      <td>down</td>\n",
              "    </tr>\n",
              "    <tr>\n",
              "      <th>10</th>\n",
              "      <td>NaN</td>\n",
              "      <td>2019-10-23</td>\n",
              "      <td>73.144867</td>\n",
              "      <td>up</td>\n",
              "    </tr>\n",
              "    <tr>\n",
              "      <th>11</th>\n",
              "      <td>NaN</td>\n",
              "      <td>2019-10-24</td>\n",
              "      <td>72.383522</td>\n",
              "      <td>down</td>\n",
              "    </tr>\n",
              "    <tr>\n",
              "      <th>12</th>\n",
              "      <td>NaN</td>\n",
              "      <td>2019-10-25</td>\n",
              "      <td>72.479156</td>\n",
              "      <td>up</td>\n",
              "    </tr>\n",
              "    <tr>\n",
              "      <th>13</th>\n",
              "      <td>NaN</td>\n",
              "      <td>2019-10-26</td>\n",
              "      <td>71.771362</td>\n",
              "      <td>down</td>\n",
              "    </tr>\n",
              "    <tr>\n",
              "      <th>14</th>\n",
              "      <td>NaN</td>\n",
              "      <td>2019-10-27</td>\n",
              "      <td>71.860252</td>\n",
              "      <td>up</td>\n",
              "    </tr>\n",
              "    <tr>\n",
              "      <th>15</th>\n",
              "      <td>NaN</td>\n",
              "      <td>2019-10-28</td>\n",
              "      <td>71.202492</td>\n",
              "      <td>down</td>\n",
              "    </tr>\n",
              "    <tr>\n",
              "      <th>16</th>\n",
              "      <td>NaN</td>\n",
              "      <td>2019-10-29</td>\n",
              "      <td>71.285080</td>\n",
              "      <td>up</td>\n",
              "    </tr>\n",
              "    <tr>\n",
              "      <th>17</th>\n",
              "      <td>NaN</td>\n",
              "      <td>2019-10-30</td>\n",
              "      <td>70.674049</td>\n",
              "      <td>down</td>\n",
              "    </tr>\n",
              "    <tr>\n",
              "      <th>18</th>\n",
              "      <td>NaN</td>\n",
              "      <td>2019-10-31</td>\n",
              "      <td>70.750755</td>\n",
              "      <td>up</td>\n",
              "    </tr>\n",
              "    <tr>\n",
              "      <th>19</th>\n",
              "      <td>NaN</td>\n",
              "      <td>2019-11-01</td>\n",
              "      <td>70.183334</td>\n",
              "      <td>down</td>\n",
              "    </tr>\n",
              "    <tr>\n",
              "      <th>20</th>\n",
              "      <td>NaN</td>\n",
              "      <td>2019-11-02</td>\n",
              "      <td>70.254555</td>\n",
              "      <td>up</td>\n",
              "    </tr>\n",
              "    <tr>\n",
              "      <th>21</th>\n",
              "      <td>NaN</td>\n",
              "      <td>2019-11-03</td>\n",
              "      <td>69.727821</td>\n",
              "      <td>down</td>\n",
              "    </tr>\n",
              "    <tr>\n",
              "      <th>22</th>\n",
              "      <td>NaN</td>\n",
              "      <td>2019-11-04</td>\n",
              "      <td>69.793915</td>\n",
              "      <td>up</td>\n",
              "    </tr>\n",
              "    <tr>\n",
              "      <th>23</th>\n",
              "      <td>NaN</td>\n",
              "      <td>2019-11-05</td>\n",
              "      <td>69.305130</td>\n",
              "      <td>down</td>\n",
              "    </tr>\n",
              "    <tr>\n",
              "      <th>24</th>\n",
              "      <td>NaN</td>\n",
              "      <td>2019-11-06</td>\n",
              "      <td>69.366447</td>\n",
              "      <td>up</td>\n",
              "    </tr>\n",
              "    <tr>\n",
              "      <th>25</th>\n",
              "      <td>NaN</td>\n",
              "      <td>2019-11-07</td>\n",
              "      <td>68.913033</td>\n",
              "      <td>down</td>\n",
              "    </tr>\n",
              "    <tr>\n",
              "      <th>26</th>\n",
              "      <td>NaN</td>\n",
              "      <td>2019-11-08</td>\n",
              "      <td>68.969902</td>\n",
              "      <td>up</td>\n",
              "    </tr>\n",
              "    <tr>\n",
              "      <th>27</th>\n",
              "      <td>NaN</td>\n",
              "      <td>2019-11-09</td>\n",
              "      <td>68.549431</td>\n",
              "      <td>down</td>\n",
              "    </tr>\n",
              "    <tr>\n",
              "      <th>28</th>\n",
              "      <td>NaN</td>\n",
              "      <td>2019-11-10</td>\n",
              "      <td>68.602150</td>\n",
              "      <td>up</td>\n",
              "    </tr>\n",
              "    <tr>\n",
              "      <th>29</th>\n",
              "      <td>NaN</td>\n",
              "      <td>2019-11-11</td>\n",
              "      <td>68.212357</td>\n",
              "      <td>down</td>\n",
              "    </tr>\n",
              "    <tr>\n",
              "      <th>...</th>\n",
              "      <td>...</td>\n",
              "      <td>...</td>\n",
              "      <td>...</td>\n",
              "      <td>...</td>\n",
              "    </tr>\n",
              "    <tr>\n",
              "      <th>224</th>\n",
              "      <td>NaN</td>\n",
              "      <td>2019-10-12</td>\n",
              "      <td>78.318474</td>\n",
              "      <td>up</td>\n",
              "    </tr>\n",
              "    <tr>\n",
              "      <th>225</th>\n",
              "      <td>NaN</td>\n",
              "      <td>2019-10-13</td>\n",
              "      <td>78.483681</td>\n",
              "      <td>up</td>\n",
              "    </tr>\n",
              "    <tr>\n",
              "      <th>226</th>\n",
              "      <td>NaN</td>\n",
              "      <td>2019-10-14</td>\n",
              "      <td>78.480507</td>\n",
              "      <td>down</td>\n",
              "    </tr>\n",
              "    <tr>\n",
              "      <th>227</th>\n",
              "      <td>NaN</td>\n",
              "      <td>2019-10-15</td>\n",
              "      <td>78.653328</td>\n",
              "      <td>up</td>\n",
              "    </tr>\n",
              "    <tr>\n",
              "      <th>228</th>\n",
              "      <td>NaN</td>\n",
              "      <td>2019-10-16</td>\n",
              "      <td>78.650002</td>\n",
              "      <td>down</td>\n",
              "    </tr>\n",
              "    <tr>\n",
              "      <th>229</th>\n",
              "      <td>NaN</td>\n",
              "      <td>2019-10-17</td>\n",
              "      <td>78.830849</td>\n",
              "      <td>up</td>\n",
              "    </tr>\n",
              "    <tr>\n",
              "      <th>230</th>\n",
              "      <td>NaN</td>\n",
              "      <td>2019-10-18</td>\n",
              "      <td>78.827362</td>\n",
              "      <td>down</td>\n",
              "    </tr>\n",
              "    <tr>\n",
              "      <th>231</th>\n",
              "      <td>NaN</td>\n",
              "      <td>2019-10-19</td>\n",
              "      <td>79.016685</td>\n",
              "      <td>up</td>\n",
              "    </tr>\n",
              "    <tr>\n",
              "      <th>232</th>\n",
              "      <td>NaN</td>\n",
              "      <td>2019-10-20</td>\n",
              "      <td>79.013031</td>\n",
              "      <td>down</td>\n",
              "    </tr>\n",
              "    <tr>\n",
              "      <th>233</th>\n",
              "      <td>NaN</td>\n",
              "      <td>2019-10-21</td>\n",
              "      <td>79.211311</td>\n",
              "      <td>up</td>\n",
              "    </tr>\n",
              "    <tr>\n",
              "      <th>234</th>\n",
              "      <td>NaN</td>\n",
              "      <td>2019-10-22</td>\n",
              "      <td>79.207481</td>\n",
              "      <td>down</td>\n",
              "    </tr>\n",
              "    <tr>\n",
              "      <th>235</th>\n",
              "      <td>NaN</td>\n",
              "      <td>2019-10-23</td>\n",
              "      <td>79.415222</td>\n",
              "      <td>up</td>\n",
              "    </tr>\n",
              "    <tr>\n",
              "      <th>236</th>\n",
              "      <td>NaN</td>\n",
              "      <td>2019-10-24</td>\n",
              "      <td>79.411209</td>\n",
              "      <td>down</td>\n",
              "    </tr>\n",
              "    <tr>\n",
              "      <th>237</th>\n",
              "      <td>NaN</td>\n",
              "      <td>2019-10-25</td>\n",
              "      <td>79.628952</td>\n",
              "      <td>up</td>\n",
              "    </tr>\n",
              "    <tr>\n",
              "      <th>238</th>\n",
              "      <td>NaN</td>\n",
              "      <td>2019-10-26</td>\n",
              "      <td>79.624748</td>\n",
              "      <td>down</td>\n",
              "    </tr>\n",
              "    <tr>\n",
              "      <th>239</th>\n",
              "      <td>NaN</td>\n",
              "      <td>2019-10-27</td>\n",
              "      <td>79.853088</td>\n",
              "      <td>up</td>\n",
              "    </tr>\n",
              "    <tr>\n",
              "      <th>240</th>\n",
              "      <td>NaN</td>\n",
              "      <td>2019-10-28</td>\n",
              "      <td>79.848679</td>\n",
              "      <td>down</td>\n",
              "    </tr>\n",
              "    <tr>\n",
              "      <th>241</th>\n",
              "      <td>NaN</td>\n",
              "      <td>2019-10-29</td>\n",
              "      <td>80.088242</td>\n",
              "      <td>up</td>\n",
              "    </tr>\n",
              "    <tr>\n",
              "      <th>242</th>\n",
              "      <td>NaN</td>\n",
              "      <td>2019-10-30</td>\n",
              "      <td>80.083611</td>\n",
              "      <td>down</td>\n",
              "    </tr>\n",
              "    <tr>\n",
              "      <th>243</th>\n",
              "      <td>NaN</td>\n",
              "      <td>2019-10-31</td>\n",
              "      <td>80.335060</td>\n",
              "      <td>up</td>\n",
              "    </tr>\n",
              "    <tr>\n",
              "      <th>244</th>\n",
              "      <td>NaN</td>\n",
              "      <td>2019-11-01</td>\n",
              "      <td>80.330200</td>\n",
              "      <td>down</td>\n",
              "    </tr>\n",
              "    <tr>\n",
              "      <th>245</th>\n",
              "      <td>NaN</td>\n",
              "      <td>2019-11-02</td>\n",
              "      <td>80.594269</td>\n",
              "      <td>up</td>\n",
              "    </tr>\n",
              "    <tr>\n",
              "      <th>246</th>\n",
              "      <td>NaN</td>\n",
              "      <td>2019-11-03</td>\n",
              "      <td>80.589165</td>\n",
              "      <td>down</td>\n",
              "    </tr>\n",
              "    <tr>\n",
              "      <th>247</th>\n",
              "      <td>NaN</td>\n",
              "      <td>2019-11-04</td>\n",
              "      <td>80.866623</td>\n",
              "      <td>up</td>\n",
              "    </tr>\n",
              "    <tr>\n",
              "      <th>248</th>\n",
              "      <td>NaN</td>\n",
              "      <td>2019-11-05</td>\n",
              "      <td>80.861259</td>\n",
              "      <td>down</td>\n",
              "    </tr>\n",
              "    <tr>\n",
              "      <th>249</th>\n",
              "      <td>NaN</td>\n",
              "      <td>2019-11-06</td>\n",
              "      <td>81.152939</td>\n",
              "      <td>up</td>\n",
              "    </tr>\n",
              "    <tr>\n",
              "      <th>250</th>\n",
              "      <td>NaN</td>\n",
              "      <td>2019-11-07</td>\n",
              "      <td>81.147301</td>\n",
              "      <td>down</td>\n",
              "    </tr>\n",
              "    <tr>\n",
              "      <th>251</th>\n",
              "      <td>NaN</td>\n",
              "      <td>2019-11-08</td>\n",
              "      <td>81.454102</td>\n",
              "      <td>up</td>\n",
              "    </tr>\n",
              "    <tr>\n",
              "      <th>252</th>\n",
              "      <td>NaN</td>\n",
              "      <td>2019-11-09</td>\n",
              "      <td>81.448174</td>\n",
              "      <td>down</td>\n",
              "    </tr>\n",
              "    <tr>\n",
              "      <th>253</th>\n",
              "      <td>NaN</td>\n",
              "      <td>2019-11-10</td>\n",
              "      <td>81.757309</td>\n",
              "      <td>up</td>\n",
              "    </tr>\n",
              "  </tbody>\n",
              "</table>\n",
              "<p>254 rows × 4 columns</p>\n",
              "</div>"
            ],
            "text/plain": [
              "     Unnamed: 0        date      price trend\n",
              "0           NaN  2019-10-13  77.298012    up\n",
              "1           NaN  2019-10-14  76.207481  down\n",
              "2           NaN  2019-10-15  76.344589    up\n",
              "3           NaN  2019-10-16  75.329010  down\n",
              "4           NaN  2019-10-17  75.456673    up\n",
              "5           NaN  2019-10-18  74.511185  down\n",
              "6           NaN  2019-10-19  74.630020    up\n",
              "7           NaN  2019-10-20  73.750076  down\n",
              "8           NaN  2019-10-21  73.860657    up\n",
              "9           NaN  2019-10-22  73.042007  down\n",
              "10          NaN  2019-10-23  73.144867    up\n",
              "11          NaN  2019-10-24  72.383522  down\n",
              "12          NaN  2019-10-25  72.479156    up\n",
              "13          NaN  2019-10-26  71.771362  down\n",
              "14          NaN  2019-10-27  71.860252    up\n",
              "15          NaN  2019-10-28  71.202492  down\n",
              "16          NaN  2019-10-29  71.285080    up\n",
              "17          NaN  2019-10-30  70.674049  down\n",
              "18          NaN  2019-10-31  70.750755    up\n",
              "19          NaN  2019-11-01  70.183334  down\n",
              "20          NaN  2019-11-02  70.254555    up\n",
              "21          NaN  2019-11-03  69.727821  down\n",
              "22          NaN  2019-11-04  69.793915    up\n",
              "23          NaN  2019-11-05  69.305130  down\n",
              "24          NaN  2019-11-06  69.366447    up\n",
              "25          NaN  2019-11-07  68.913033  down\n",
              "26          NaN  2019-11-08  68.969902    up\n",
              "27          NaN  2019-11-09  68.549431  down\n",
              "28          NaN  2019-11-10  68.602150    up\n",
              "29          NaN  2019-11-11  68.212357  down\n",
              "..          ...         ...        ...   ...\n",
              "224         NaN  2019-10-12  78.318474    up\n",
              "225         NaN  2019-10-13  78.483681    up\n",
              "226         NaN  2019-10-14  78.480507  down\n",
              "227         NaN  2019-10-15  78.653328    up\n",
              "228         NaN  2019-10-16  78.650002  down\n",
              "229         NaN  2019-10-17  78.830849    up\n",
              "230         NaN  2019-10-18  78.827362  down\n",
              "231         NaN  2019-10-19  79.016685    up\n",
              "232         NaN  2019-10-20  79.013031  down\n",
              "233         NaN  2019-10-21  79.211311    up\n",
              "234         NaN  2019-10-22  79.207481  down\n",
              "235         NaN  2019-10-23  79.415222    up\n",
              "236         NaN  2019-10-24  79.411209  down\n",
              "237         NaN  2019-10-25  79.628952    up\n",
              "238         NaN  2019-10-26  79.624748  down\n",
              "239         NaN  2019-10-27  79.853088    up\n",
              "240         NaN  2019-10-28  79.848679  down\n",
              "241         NaN  2019-10-29  80.088242    up\n",
              "242         NaN  2019-10-30  80.083611  down\n",
              "243         NaN  2019-10-31  80.335060    up\n",
              "244         NaN  2019-11-01  80.330200  down\n",
              "245         NaN  2019-11-02  80.594269    up\n",
              "246         NaN  2019-11-03  80.589165  down\n",
              "247         NaN  2019-11-04  80.866623    up\n",
              "248         NaN  2019-11-05  80.861259  down\n",
              "249         NaN  2019-11-06  81.152939    up\n",
              "250         NaN  2019-11-07  81.147301  down\n",
              "251         NaN  2019-11-08  81.454102    up\n",
              "252         NaN  2019-11-09  81.448174  down\n",
              "253         NaN  2019-11-10  81.757309    up\n",
              "\n",
              "[254 rows x 4 columns]"
            ]
          },
          "metadata": {
            "tags": []
          },
          "execution_count": 163
        }
      ]
    }
  ]
}