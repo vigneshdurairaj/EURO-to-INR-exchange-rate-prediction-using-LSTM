{
  "nbformat": 4,
  "nbformat_minor": 0,
  "metadata": {
    "colab": {
      "name": "Untitled3.ipynb",
      "provenance": [],
      "include_colab_link": true
    },
    "kernelspec": {
      "name": "python3",
      "display_name": "Python 3"
    }
  },
  "cells": [
    {
      "cell_type": "markdown",
      "metadata": {
        "id": "view-in-github",
        "colab_type": "text"
      },
      "source": [
        "<a href=\"https://colab.research.google.com/github/vigneshdurairaj/EURO-to-INR-exchange-rate-prediction-using-LSTM/blob/master/EURO_to_INR.ipynb\" target=\"_parent\"><img src=\"https://colab.research.google.com/assets/colab-badge.svg\" alt=\"Open In Colab\"/></a>"
      ]
    },
    {
      "cell_type": "markdown",
      "metadata": {
        "id": "ros4cyTJkC0S",
        "colab_type": "text"
      },
      "source": [
        "# **Euro to Inr Exchange rate prediciton using LSTM**"
      ]
    },
    {
      "cell_type": "code",
      "metadata": {
        "id": "E9WgpDg07xOq",
        "colab_type": "code",
        "colab": {}
      },
      "source": [
        "#import necessary package\n",
        "import pandas as pd\n",
        "import numpy as np\n",
        "import matplotlib.pyplot as plt\n",
        "%matplotlib inline\n",
        "\n",
        "from sklearn.preprocessing import MinMaxScaler\n",
        "from keras import optimizers\n",
        "import keras\n",
        "from keras.models import Sequential\n",
        "from keras.layers import Dense, LSTM\n",
        "import keras.backend as K\n",
        "\n",
        "import tqdm"
      ],
      "execution_count": 0,
      "outputs": []
    },
    {
      "cell_type": "markdown",
      "metadata": {
        "id": "CDE_n4-lkYTw",
        "colab_type": "text"
      },
      "source": [
        "**Dataset**\n",
        "The dataset was collected from https://in.investing.com/currencies/eur-inr-historical-data. Create an account and download the dataset or just go to my github repository to collect the dataset."
      ]
    },
    {
      "cell_type": "code",
      "metadata": {
        "id": "g8sZ4Ty98JaH",
        "colab_type": "code",
        "colab": {}
      },
      "source": [
        "a = pd.read_csv('euro_to_inr.csv')"
      ],
      "execution_count": 0,
      "outputs": []
    },
    {
      "cell_type": "code",
      "metadata": {
        "id": "m6a-miUh8ko5",
        "colab_type": "code",
        "outputId": "07053ca1-ad1d-4c70-ebc0-6f7e08333f76",
        "colab": {
          "base_uri": "https://localhost:8080/",
          "height": 235
        }
      },
      "source": [
        "df = a[['date', 'price']]\n",
        "df.columns = ['date', 'price']\n",
        "df['date'] = pd.to_datetime(df['date'])\n",
        "df = df.set_index('date')\n",
        "df = df.sort_values(by='date')\n",
        "# df = df.reset_index(drop=True)\n",
        "df.tail()"
      ],
      "execution_count": 136,
      "outputs": [
        {
          "output_type": "execute_result",
          "data": {
            "text/html": [
              "<div>\n",
              "<style scoped>\n",
              "    .dataframe tbody tr th:only-of-type {\n",
              "        vertical-align: middle;\n",
              "    }\n",
              "\n",
              "    .dataframe tbody tr th {\n",
              "        vertical-align: top;\n",
              "    }\n",
              "\n",
              "    .dataframe thead th {\n",
              "        text-align: right;\n",
              "    }\n",
              "</style>\n",
              "<table border=\"1\" class=\"dataframe\">\n",
              "  <thead>\n",
              "    <tr style=\"text-align: right;\">\n",
              "      <th></th>\n",
              "      <th>price</th>\n",
              "    </tr>\n",
              "    <tr>\n",
              "      <th>date</th>\n",
              "      <th></th>\n",
              "    </tr>\n",
              "  </thead>\n",
              "  <tbody>\n",
              "    <tr>\n",
              "      <th>2019-10-13</th>\n",
              "      <td>78.460121</td>\n",
              "    </tr>\n",
              "    <tr>\n",
              "      <th>2019-10-14</th>\n",
              "      <td>78.441849</td>\n",
              "    </tr>\n",
              "    <tr>\n",
              "      <th>2019-10-15</th>\n",
              "      <td>78.597847</td>\n",
              "    </tr>\n",
              "    <tr>\n",
              "      <th>2019-10-16</th>\n",
              "      <td>78.579704</td>\n",
              "    </tr>\n",
              "    <tr>\n",
              "      <th>2019-10-17</th>\n",
              "      <td>78.734657</td>\n",
              "    </tr>\n",
              "  </tbody>\n",
              "</table>\n",
              "</div>"
            ],
            "text/plain": [
              "                price\n",
              "date                 \n",
              "2019-10-13  78.460121\n",
              "2019-10-14  78.441849\n",
              "2019-10-15  78.597847\n",
              "2019-10-16  78.579704\n",
              "2019-10-17  78.734657"
            ]
          },
          "metadata": {
            "tags": []
          },
          "execution_count": 136
        }
      ]
    },
    {
      "cell_type": "code",
      "metadata": {
        "id": "w4Ab8t8meQo8",
        "colab_type": "code",
        "colab": {
          "base_uri": "https://localhost:8080/",
          "height": 51
        },
        "outputId": "b13ae23a-bae8-4f3e-8d54-99c13e5c09b8"
      },
      "source": [
        "df.iloc[3500]"
      ],
      "execution_count": 137,
      "outputs": [
        {
          "output_type": "execute_result",
          "data": {
            "text/plain": [
              "price    67.592\n",
              "Name: 2015-04-19 00:00:00, dtype: float64"
            ]
          },
          "metadata": {
            "tags": []
          },
          "execution_count": 137
        }
      ]
    },
    {
      "cell_type": "code",
      "metadata": {
        "id": "2hHGQ_IT8ySI",
        "colab_type": "code",
        "outputId": "d362816e-1deb-4d90-806a-d905472af867",
        "colab": {
          "base_uri": "https://localhost:8080/",
          "height": 290
        }
      },
      "source": [
        "df.plot()"
      ],
      "execution_count": 138,
      "outputs": [
        {
          "output_type": "execute_result",
          "data": {
            "text/plain": [
              "<matplotlib.axes._subplots.AxesSubplot at 0x7f7536d87e48>"
            ]
          },
          "metadata": {
            "tags": []
          },
          "execution_count": 138
        },
        {
          "output_type": "display_data",
          "data": {
            "image/png": "[encoded data removed]",
            "text/plain": [
              "<Figure size 432x288 with 1 Axes>"
            ]
          },
          "metadata": {
            "tags": []
          }
        }
      ]
    },
    {
      "cell_type": "code",
      "metadata": {
        "id": "iBFsPpbH9o9g",
        "colab_type": "code",
        "colab": {}
      },
      "source": [
        "split_date = pd.Timestamp('2015-04-19')"
      ],
      "execution_count": 0,
      "outputs": []
    },
    {
      "cell_type": "code",
      "metadata": {
        "id": "c8M1LGvr9sw-",
        "colab_type": "code",
        "colab": {}
      },
      "source": [
        "train = df.loc[:split_date, ['price']]\n",
        "test = df.loc[split_date:, ['price']]"
      ],
      "execution_count": 0,
      "outputs": []
    },
    {
      "cell_type": "code",
      "metadata": {
        "id": "NmPE_eht9ulN",
        "colab_type": "code",
        "outputId": "47218c80-4c9d-4d1c-dc32-683437dd198c",
        "colab": {
          "base_uri": "https://localhost:8080/",
          "height": 290
        }
      },
      "source": [
        "ax = train.plot()\n",
        "test.plot(ax=ax)\n",
        "plt.legend(['train', 'test'])"
      ],
      "execution_count": 141,
      "outputs": [
        {
          "output_type": "execute_result",
          "data": {
            "text/plain": [
              "<matplotlib.legend.Legend at 0x7f7532ced320>"
            ]
          },
          "metadata": {
            "tags": []
          },
          "execution_count": 141
        },
        {
          "output_type": "display_data",
          "data": {
            "image/png": "[encoded data removed]",
            "text/plain": [
              "<Figure size 432x288 with 1 Axes>"
            ]
          },
          "metadata": {
            "tags": []
          }
        }
      ]
    },
    {
      "cell_type": "code",
      "metadata": {
        "id": "LNY5nORb98ki",
        "colab_type": "code",
        "colab": {}
      },
      "source": [
        "sc = MinMaxScaler()\n",
        "\n",
        "train_sc = sc.fit_transform(train)\n",
        "test_sc = sc.transform(test)"
      ],
      "execution_count": 0,
      "outputs": []
    },
    {
      "cell_type": "code",
      "metadata": {
        "id": "aVgMIF8l-GV6",
        "colab_type": "code",
        "outputId": "9142d447-64dd-4856-8f0c-5f3ec0504ab4",
        "colab": {
          "base_uri": "https://localhost:8080/",
          "height": 85
        }
      },
      "source": [
        "train_sc[:4]"
      ],
      "execution_count": 143,
      "outputs": [
        {
          "output_type": "execute_result",
          "data": {
            "text/plain": [
              "array([[0.02659209],\n",
              "       [0.02197047],\n",
              "       [0.02290664],\n",
              "       [0.02295404]])"
            ]
          },
          "metadata": {
            "tags": []
          },
          "execution_count": 143
        }
      ]
    },
    {
      "cell_type": "code",
      "metadata": {
        "id": "OVxMutDu-IdG",
        "colab_type": "code",
        "outputId": "a1dc823f-7d43-49cd-b2fd-5c4eeb21aacd",
        "colab": {
          "base_uri": "https://localhost:8080/",
          "height": 204
        }
      },
      "source": [
        "train[:4]"
      ],
      "execution_count": 144,
      "outputs": [
        {
          "output_type": "execute_result",
          "data": {
            "text/html": [
              "<div>\n",
              "<style scoped>\n",
              "    .dataframe tbody tr th:only-of-type {\n",
              "        vertical-align: middle;\n",
              "    }\n",
              "\n",
              "    .dataframe tbody tr th {\n",
              "        vertical-align: top;\n",
              "    }\n",
              "\n",
              "    .dataframe thead th {\n",
              "        text-align: right;\n",
              "    }\n",
              "</style>\n",
              "<table border=\"1\" class=\"dataframe\">\n",
              "  <thead>\n",
              "    <tr style=\"text-align: right;\">\n",
              "      <th></th>\n",
              "      <th>price</th>\n",
              "    </tr>\n",
              "    <tr>\n",
              "      <th>date</th>\n",
              "      <th></th>\n",
              "    </tr>\n",
              "  </thead>\n",
              "  <tbody>\n",
              "    <tr>\n",
              "      <th>2003-01-10</th>\n",
              "      <td>50.7115</td>\n",
              "    </tr>\n",
              "    <tr>\n",
              "      <th>2003-01-13</th>\n",
              "      <td>50.5165</td>\n",
              "    </tr>\n",
              "    <tr>\n",
              "      <th>2003-01-14</th>\n",
              "      <td>50.5560</td>\n",
              "    </tr>\n",
              "    <tr>\n",
              "      <th>2003-01-15</th>\n",
              "      <td>50.5580</td>\n",
              "    </tr>\n",
              "  </tbody>\n",
              "</table>\n",
              "</div>"
            ],
            "text/plain": [
              "              price\n",
              "date               \n",
              "2003-01-10  50.7115\n",
              "2003-01-13  50.5165\n",
              "2003-01-14  50.5560\n",
              "2003-01-15  50.5580"
            ]
          },
          "metadata": {
            "tags": []
          },
          "execution_count": 144
        }
      ]
    },
    {
      "cell_type": "code",
      "metadata": {
        "id": "f8SXbp_B-K12",
        "colab_type": "code",
        "colab": {}
      },
      "source": [
        "X_train = train_sc[:-1]\n",
        "y_train = train_sc[1:]\n",
        "\n",
        "X_test = test_sc[:-1]\n",
        "y_test = test_sc[1:]"
      ],
      "execution_count": 0,
      "outputs": []
    },
    {
      "cell_type": "code",
      "metadata": {
        "id": "_hK3rWK1-NCn",
        "colab_type": "code",
        "outputId": "9dc165b8-8062-4747-ae7e-cdb3a856800c",
        "colab": {
          "base_uri": "https://localhost:8080/",
          "height": 34
        }
      },
      "source": [
        "train_sc.shape"
      ],
      "execution_count": 146,
      "outputs": [
        {
          "output_type": "execute_result",
          "data": {
            "text/plain": [
              "(3501, 1)"
            ]
          },
          "metadata": {
            "tags": []
          },
          "execution_count": 146
        }
      ]
    },
    {
      "cell_type": "code",
      "metadata": {
        "id": "wByyL1iL-QhY",
        "colab_type": "code",
        "outputId": "636577fb-b0c6-496c-c10f-e07b2c51cf75",
        "colab": {
          "base_uri": "https://localhost:8080/",
          "height": 136
        }
      },
      "source": [
        "y_train"
      ],
      "execution_count": 147,
      "outputs": [
        {
          "output_type": "execute_result",
          "data": {
            "text/plain": [
              "array([[0.02197047],\n",
              "       [0.02290664],\n",
              "       [0.02295404],\n",
              "       ...,\n",
              "       [0.41413268],\n",
              "       [0.4268125 ],\n",
              "       [0.4266703 ]])"
            ]
          },
          "metadata": {
            "tags": []
          },
          "execution_count": 147
        }
      ]
    },
    {
      "cell_type": "code",
      "metadata": {
        "id": "Tu4V3RM4-Sfv",
        "colab_type": "code",
        "colab": {}
      },
      "source": [
        "X_train_t = X_train[:, None]\n",
        "X_test_t = X_test[:, None]"
      ],
      "execution_count": 0,
      "outputs": []
    },
    {
      "cell_type": "code",
      "metadata": {
        "id": "Qb7_nPEs-Ycn",
        "colab_type": "code",
        "outputId": "cfb21592-3c8f-47f5-d746-2083a5cefe2c",
        "colab": {
          "base_uri": "https://localhost:8080/",
          "height": 34
        }
      },
      "source": [
        "X_train_t.shape"
      ],
      "execution_count": 149,
      "outputs": [
        {
          "output_type": "execute_result",
          "data": {
            "text/plain": [
              "(3500, 1, 1)"
            ]
          },
          "metadata": {
            "tags": []
          },
          "execution_count": 149
        }
      ]
    },
    {
      "cell_type": "code",
      "metadata": {
        "id": "GHq_NAdZI_Ok",
        "colab_type": "code",
        "colab": {}
      },
      "source": [
        "num_units = 4\n",
        "activation_function = 'sigmoid'\n",
        "optimizer = 'adam'\n",
        "loss_function = 'mean_squared_error'\n",
        "batch_size = 60\n",
        "num_epochs = 75\n",
        "\n",
        "# Initialize the RNN\n",
        "regressor = Sequential()\n",
        "\n",
        "# Adding the input layer and the LSTM layer\n",
        "regressor.add(LSTM(units = num_units, activation = activation_function, input_shape=(1, 1)))\n",
        "\n",
        "# Adding the output layer\n",
        "regressor.add(Dense(units = 1))\n",
        "\n",
        "# Compiling the RNN\n",
        "regressor.compile(optimizer = optimizer, loss = loss_function)\n",
        "\n",
        "# Using the training set to train the model\n"
      ],
      "execution_count": 0,
      "outputs": []
    },
    {
      "cell_type": "code",
      "metadata": {
        "id": "ed6W6UPgJE-p",
        "colab_type": "code",
        "colab": {
          "base_uri": "https://localhost:8080/",
          "height": 1000
        },
        "outputId": "95bddf01-3716-463b-d3fd-249f073564c3"
      },
      "source": [
        "regressor.fit(X_train_t, y_train, batch_size = batch_size, epochs = num_epochs)"
      ],
      "execution_count": 153,
      "outputs": [
        {
          "output_type": "stream",
          "text": [
            "Epoch 1/75\n",
            "3500/3500 [==============================] - 12s 4ms/step - loss: 0.4407\n",
            "Epoch 2/75\n",
            "3500/3500 [==============================] - 0s 47us/step - loss: 0.2906\n",
            "Epoch 3/75\n",
            "3500/3500 [==============================] - 0s 48us/step - loss: 0.1902\n",
            "Epoch 4/75\n",
            "3500/3500 [==============================] - 0s 51us/step - loss: 0.1262\n",
            "Epoch 5/75\n",
            "3500/3500 [==============================] - 0s 52us/step - loss: 0.0875\n",
            "Epoch 6/75\n",
            "3500/3500 [==============================] - 0s 49us/step - loss: 0.0653\n",
            "Epoch 7/75\n",
            "3500/3500 [==============================] - 0s 49us/step - loss: 0.0534\n",
            "Epoch 8/75\n",
            "3500/3500 [==============================] - 0s 50us/step - loss: 0.0474\n",
            "Epoch 9/75\n",
            "3500/3500 [==============================] - 0s 47us/step - loss: 0.0446\n",
            "Epoch 10/75\n",
            "3500/3500 [==============================] - 0s 49us/step - loss: 0.0431\n",
            "Epoch 11/75\n",
            "3500/3500 [==============================] - 0s 49us/step - loss: 0.0422\n",
            "Epoch 12/75\n",
            "3500/3500 [==============================] - 0s 49us/step - loss: 0.0416\n",
            "Epoch 13/75\n",
            "3500/3500 [==============================] - 0s 51us/step - loss: 0.0411\n",
            "Epoch 14/75\n",
            "3500/3500 [==============================] - 0s 49us/step - loss: 0.0405\n",
            "Epoch 15/75\n",
            "3500/3500 [==============================] - 0s 49us/step - loss: 0.0399\n",
            "Epoch 16/75\n",
            "3500/3500 [==============================] - 0s 48us/step - loss: 0.0393\n",
            "Epoch 17/75\n",
            "3500/3500 [==============================] - 0s 50us/step - loss: 0.0387\n",
            "Epoch 18/75\n",
            "3500/3500 [==============================] - 0s 49us/step - loss: 0.0381\n",
            "Epoch 19/75\n",
            "3500/3500 [==============================] - 0s 48us/step - loss: 0.0374\n",
            "Epoch 20/75\n",
            "3500/3500 [==============================] - 0s 50us/step - loss: 0.0367\n",
            "Epoch 21/75\n",
            "3500/3500 [==============================] - 0s 47us/step - loss: 0.0360\n",
            "Epoch 22/75\n",
            "3500/3500 [==============================] - 0s 49us/step - loss: 0.0353\n",
            "Epoch 23/75\n",
            "3500/3500 [==============================] - 0s 50us/step - loss: 0.0345\n",
            "Epoch 24/75\n",
            "3500/3500 [==============================] - 0s 49us/step - loss: 0.0337\n",
            "Epoch 25/75\n",
            "3500/3500 [==============================] - 0s 48us/step - loss: 0.0329\n",
            "Epoch 26/75\n",
            "3500/3500 [==============================] - 0s 49us/step - loss: 0.0320\n",
            "Epoch 27/75\n",
            "3500/3500 [==============================] - 0s 49us/step - loss: 0.0312\n",
            "Epoch 28/75\n",
            "3500/3500 [==============================] - 0s 50us/step - loss: 0.0302\n",
            "Epoch 29/75\n",
            "3500/3500 [==============================] - 0s 48us/step - loss: 0.0293\n",
            "Epoch 30/75\n",
            "3500/3500 [==============================] - 0s 49us/step - loss: 0.0283\n",
            "Epoch 31/75\n",
            "3500/3500 [==============================] - 0s 50us/step - loss: 0.0273\n",
            "Epoch 32/75\n",
            "3500/3500 [==============================] - 0s 48us/step - loss: 0.0263\n",
            "Epoch 33/75\n",
            "3500/3500 [==============================] - 0s 48us/step - loss: 0.0252\n",
            "Epoch 34/75\n",
            "3500/3500 [==============================] - 0s 53us/step - loss: 0.0242\n",
            "Epoch 35/75\n",
            "3500/3500 [==============================] - 0s 49us/step - loss: 0.0231\n",
            "Epoch 36/75\n",
            "3500/3500 [==============================] - 0s 48us/step - loss: 0.0219\n",
            "Epoch 37/75\n",
            "3500/3500 [==============================] - 0s 48us/step - loss: 0.0208\n",
            "Epoch 38/75\n",
            "3500/3500 [==============================] - 0s 49us/step - loss: 0.0196\n",
            "Epoch 39/75\n",
            "3500/3500 [==============================] - 0s 48us/step - loss: 0.0184\n",
            "Epoch 40/75\n",
            "3500/3500 [==============================] - 0s 53us/step - loss: 0.0173\n",
            "Epoch 41/75\n",
            "3500/3500 [==============================] - 0s 50us/step - loss: 0.0161\n",
            "Epoch 42/75\n",
            "3500/3500 [==============================] - 0s 50us/step - loss: 0.0150\n",
            "Epoch 43/75\n",
            "3500/3500 [==============================] - 0s 49us/step - loss: 0.0139\n",
            "Epoch 44/75\n",
            "3500/3500 [==============================] - 0s 49us/step - loss: 0.0128\n",
            "Epoch 45/75\n",
            "3500/3500 [==============================] - 0s 49us/step - loss: 0.0117\n",
            "Epoch 46/75\n",
            "3500/3500 [==============================] - 0s 49us/step - loss: 0.0106\n",
            "Epoch 47/75\n",
            "3500/3500 [==============================] - 0s 51us/step - loss: 0.0096\n",
            "Epoch 48/75\n",
            "3500/3500 [==============================] - 0s 49us/step - loss: 0.0086\n",
            "Epoch 49/75\n",
            "3500/3500 [==============================] - 0s 48us/step - loss: 0.0077\n",
            "Epoch 50/75\n",
            "3500/3500 [==============================] - 0s 50us/step - loss: 0.0068\n",
            "Epoch 51/75\n",
            "3500/3500 [==============================] - 0s 51us/step - loss: 0.0060\n",
            "Epoch 52/75\n",
            "3500/3500 [==============================] - 0s 50us/step - loss: 0.0052\n",
            "Epoch 53/75\n",
            "3500/3500 [==============================] - 0s 50us/step - loss: 0.0045\n",
            "Epoch 54/75\n",
            "3500/3500 [==============================] - 0s 49us/step - loss: 0.0039\n",
            "Epoch 55/75\n",
            "3500/3500 [==============================] - 0s 47us/step - loss: 0.0033\n",
            "Epoch 56/75\n",
            "3500/3500 [==============================] - 0s 50us/step - loss: 0.0028\n",
            "Epoch 57/75\n",
            "3500/3500 [==============================] - 0s 58us/step - loss: 0.0023\n",
            "Epoch 58/75\n",
            "3500/3500 [==============================] - 0s 52us/step - loss: 0.0019\n",
            "Epoch 59/75\n",
            "3500/3500 [==============================] - 0s 47us/step - loss: 0.0016\n",
            "Epoch 60/75\n",
            "3500/3500 [==============================] - 0s 49us/step - loss: 0.0013\n",
            "Epoch 61/75\n",
            "3500/3500 [==============================] - 0s 51us/step - loss: 0.0010\n",
            "Epoch 62/75\n",
            "3500/3500 [==============================] - 0s 52us/step - loss: 8.2325e-04\n",
            "Epoch 63/75\n",
            "3500/3500 [==============================] - 0s 50us/step - loss: 6.5859e-04\n",
            "Epoch 64/75\n",
            "3500/3500 [==============================] - 0s 50us/step - loss: 5.2805e-04\n",
            "Epoch 65/75\n",
            "3500/3500 [==============================] - 0s 50us/step - loss: 4.2340e-04\n",
            "Epoch 66/75\n",
            "3500/3500 [==============================] - 0s 50us/step - loss: 3.4224e-04\n",
            "Epoch 67/75\n",
            "3500/3500 [==============================] - 0s 52us/step - loss: 2.7977e-04\n",
            "Epoch 68/75\n",
            "3500/3500 [==============================] - 0s 47us/step - loss: 2.3185e-04\n",
            "Epoch 69/75\n",
            "3500/3500 [==============================] - 0s 50us/step - loss: 1.9608e-04\n",
            "Epoch 70/75\n",
            "3500/3500 [==============================] - 0s 51us/step - loss: 1.6993e-04\n",
            "Epoch 71/75\n",
            "3500/3500 [==============================] - 0s 53us/step - loss: 1.5087e-04\n",
            "Epoch 72/75\n",
            "3500/3500 [==============================] - 0s 53us/step - loss: 1.3744e-04\n",
            "Epoch 73/75\n",
            "3500/3500 [==============================] - 0s 48us/step - loss: 1.2751e-04\n",
            "Epoch 74/75\n",
            "3500/3500 [==============================] - 0s 51us/step - loss: 1.2089e-04\n",
            "Epoch 75/75\n",
            "3500/3500 [==============================] - 0s 50us/step - loss: 1.1618e-04\n"
          ],
          "name": "stdout"
        },
        {
          "output_type": "execute_result",
          "data": {
            "text/plain": [
              "<keras.callbacks.History at 0x7f7532c6bdd8>"
            ]
          },
          "metadata": {
            "tags": []
          },
          "execution_count": 153
        }
      ]
    },
    {
      "cell_type": "code",
      "metadata": {
        "id": "D2eCKXVC-zQn",
        "colab_type": "code",
        "outputId": "4e37db56-3d7d-47c1-a0db-a6629ff67702",
        "colab": {
          "base_uri": "https://localhost:8080/",
          "height": 286
        }
      },
      "source": [
        "y_pred = regressor.predict(X_test_t)\n",
        "plt.figure()\n",
        "plt.plot(y_test)\n",
        "plt.plot(y_pred)\n",
        "plt.legend(['real', 'predict'])"
      ],
      "execution_count": 154,
      "outputs": [
        {
          "output_type": "execute_result",
          "data": {
            "text/plain": [
              "<matplotlib.legend.Legend at 0x7f7532765518>"
            ]
          },
          "metadata": {
            "tags": []
          },
          "execution_count": 154
        },
        {
          "output_type": "display_data",
          "data": {
            "image/png": "[encoded data removed]",
            "text/plain": [
              "<Figure size 432x288 with 1 Axes>"
            ]
          },
          "metadata": {
            "tags": []
          }
        }
      ]
    },
    {
      "cell_type": "code",
      "metadata": {
        "id": "bD8hT5nY_GU4",
        "colab_type": "code",
        "colab": {}
      },
      "source": [
        "regressor.save('model.h5')\n"
      ],
      "execution_count": 0,
      "outputs": []
    },
    {
      "cell_type": "code",
      "metadata": {
        "id": "VLPqn9kV_BNx",
        "colab_type": "code",
        "colab": {}
      },
      "source": [
        "from keras.models import load_model\n",
        "def predict_torrmow():\n",
        "    model = load_model('model.h5')\n",
        "\n",
        "\n",
        "\n",
        "    train = df[[\"price\"]]\n",
        "    sc = MinMaxScaler()\n",
        "\n",
        "    train_sc = sc.fit_transform(train)\n",
        "    X_train = train_sc[:-1]\n",
        "    y_train = train_sc[1:]\n",
        "    X_train_t = X_train[:, None]\n",
        "\n",
        "    y_pred = model.predict(X_train_t)\n",
        "    result = sc.inverse_transform(y_pred)[-2:]\n",
        "    today = result[0][0]\n",
        "    tomorrow =result[1][0]\n",
        "    output = \"flat\"\n",
        "    if tomorrow > today:\n",
        "        output = \"up\"\n",
        "    elif tomorrow < today:\n",
        "        output = \"down\"\n",
        "    return output, tomorrow"
      ],
      "execution_count": 0,
      "outputs": []
    },
    {
      "cell_type": "code",
      "metadata": {
        "id": "06Msl1mi_LnO",
        "colab_type": "code",
        "colab": {
          "base_uri": "https://localhost:8080/",
          "height": 1000
        },
        "outputId": "7d3ed19a-8838-49d5-a63a-0b73283d95f4"
      },
      "source": [
        "for i in range(30):\n",
        "\n",
        "  sign, price = predict_torrmow()\n",
        "  print(sign,price)\n",
        "\n",
        "  x = pd.DatetimeIndex(df.iloc[-1:].index.values) + pd.DateOffset(1)\n",
        "  ts = pd.to_datetime(x[0])\n",
        "  tomorrow = ts.strftime('%Y-%m-%d')\n",
        "\n",
        "  new_df = pd.DataFrame([[tomorrow,price]],columns=[\"date\",\"price\"])\n",
        "  new_df['date'] = pd.to_datetime(new_df['date'])\n",
        "  new_df = new_df.set_index('date')\n",
        "\n",
        "  df = df.append(new_df)\n",
        "  df[\"price\"] = df[\"price\"].astype(float)\n",
        "  df.to_csv(\"data.csv\")\n",
        "  new_df_predict = pd.DataFrame([[tomorrow, sign, price]], columns=[\"date\",\"trend\",\"price\"])\n",
        "  df_predict = pd.read_csv(\"data_predicted.csv\")\n",
        "  check_date = pd.DatetimeIndex(df_predict.iloc[-1:][\"date\"].values).strftime('%Y-%m-%d')[0]\n",
        "  try:\n",
        "      days = df.iloc[df.index.get_loc(check_date)-1: df.index.get_loc(check_date)+1]\n",
        "  except:\n",
        "      days = df.iloc[-2:]\n",
        "  today_price = days.iloc[1][\"price\"]\n",
        "  yesterday_price = days.iloc[0][\"price\"]\n",
        "  real_sign = \"flat\"\n",
        "  if today_price > yesterday_price:\n",
        "      real_sign = \"up\"\n",
        "  elif today_price < yesterday_price:\n",
        "      real_sign = \"down\"\n",
        "  df_predict = df_predict.append(new_df_predict, ignore_index=True)\n",
        "  df_predict.to_csv(\"data_predicted.csv\", index=False)"
      ],
      "execution_count": 157,
      "outputs": [
        {
          "output_type": "stream",
          "text": [
            "down 78.54002\n"
          ],
          "name": "stdout"
        },
        {
          "output_type": "stream",
          "text": [
            "/usr/local/lib/python3.6/dist-packages/pandas/core/frame.py:6692: FutureWarning: Sorting because non-concatenation axis is not aligned. A future version\n",
            "of pandas will change to not sort by default.\n",
            "\n",
            "To accept the future behavior, pass 'sort=False'.\n",
            "\n",
            "To retain the current behavior and silence the warning, pass 'sort=True'.\n",
            "\n",
            "  sort=sort)\n"
          ],
          "name": "stderr"
        },
        {
          "output_type": "stream",
          "text": [
            "up 78.69359\n"
          ],
          "name": "stdout"
        },
        {
          "output_type": "stream",
          "text": [
            "/usr/local/lib/python3.6/dist-packages/pandas/core/frame.py:6692: FutureWarning: Sorting because non-concatenation axis is not aligned. A future version\n",
            "of pandas will change to not sort by default.\n",
            "\n",
            "To accept the future behavior, pass 'sort=False'.\n",
            "\n",
            "To retain the current behavior and silence the warning, pass 'sort=True'.\n",
            "\n",
            "  sort=sort)\n"
          ],
          "name": "stderr"
        },
        {
          "output_type": "stream",
          "text": [
            "down 78.5007\n"
          ],
          "name": "stdout"
        },
        {
          "output_type": "stream",
          "text": [
            "/usr/local/lib/python3.6/dist-packages/pandas/core/frame.py:6692: FutureWarning: Sorting because non-concatenation axis is not aligned. A future version\n",
            "of pandas will change to not sort by default.\n",
            "\n",
            "To accept the future behavior, pass 'sort=False'.\n",
            "\n",
            "To retain the current behavior and silence the warning, pass 'sort=True'.\n",
            "\n",
            "  sort=sort)\n"
          ],
          "name": "stderr"
        },
        {
          "output_type": "stream",
          "text": [
            "up 78.65289\n"
          ],
          "name": "stdout"
        },
        {
          "output_type": "stream",
          "text": [
            "/usr/local/lib/python3.6/dist-packages/pandas/core/frame.py:6692: FutureWarning: Sorting because non-concatenation axis is not aligned. A future version\n",
            "of pandas will change to not sort by default.\n",
            "\n",
            "To accept the future behavior, pass 'sort=False'.\n",
            "\n",
            "To retain the current behavior and silence the warning, pass 'sort=True'.\n",
            "\n",
            "  sort=sort)\n"
          ],
          "name": "stderr"
        },
        {
          "output_type": "stream",
          "text": [
            "down 78.46173\n"
          ],
          "name": "stdout"
        },
        {
          "output_type": "stream",
          "text": [
            "/usr/local/lib/python3.6/dist-packages/pandas/core/frame.py:6692: FutureWarning: Sorting because non-concatenation axis is not aligned. A future version\n",
            "of pandas will change to not sort by default.\n",
            "\n",
            "To accept the future behavior, pass 'sort=False'.\n",
            "\n",
            "To retain the current behavior and silence the warning, pass 'sort=True'.\n",
            "\n",
            "  sort=sort)\n"
          ],
          "name": "stderr"
        },
        {
          "output_type": "stream",
          "text": [
            "up 78.612564\n"
          ],
          "name": "stdout"
        },
        {
          "output_type": "stream",
          "text": [
            "/usr/local/lib/python3.6/dist-packages/pandas/core/frame.py:6692: FutureWarning: Sorting because non-concatenation axis is not aligned. A future version\n",
            "of pandas will change to not sort by default.\n",
            "\n",
            "To accept the future behavior, pass 'sort=False'.\n",
            "\n",
            "To retain the current behavior and silence the warning, pass 'sort=True'.\n",
            "\n",
            "  sort=sort)\n"
          ],
          "name": "stderr"
        },
        {
          "output_type": "stream",
          "text": [
            "down 78.423096\n"
          ],
          "name": "stdout"
        },
        {
          "output_type": "stream",
          "text": [
            "/usr/local/lib/python3.6/dist-packages/pandas/core/frame.py:6692: FutureWarning: Sorting because non-concatenation axis is not aligned. A future version\n",
            "of pandas will change to not sort by default.\n",
            "\n",
            "To accept the future behavior, pass 'sort=False'.\n",
            "\n",
            "To retain the current behavior and silence the warning, pass 'sort=True'.\n",
            "\n",
            "  sort=sort)\n"
          ],
          "name": "stderr"
        },
        {
          "output_type": "stream",
          "text": [
            "up 78.57259\n"
          ],
          "name": "stdout"
        },
        {
          "output_type": "stream",
          "text": [
            "/usr/local/lib/python3.6/dist-packages/pandas/core/frame.py:6692: FutureWarning: Sorting because non-concatenation axis is not aligned. A future version\n",
            "of pandas will change to not sort by default.\n",
            "\n",
            "To accept the future behavior, pass 'sort=False'.\n",
            "\n",
            "To retain the current behavior and silence the warning, pass 'sort=True'.\n",
            "\n",
            "  sort=sort)\n"
          ],
          "name": "stderr"
        },
        {
          "output_type": "stream",
          "text": [
            "down 78.384796\n"
          ],
          "name": "stdout"
        },
        {
          "output_type": "stream",
          "text": [
            "/usr/local/lib/python3.6/dist-packages/pandas/core/frame.py:6692: FutureWarning: Sorting because non-concatenation axis is not aligned. A future version\n",
            "of pandas will change to not sort by default.\n",
            "\n",
            "To accept the future behavior, pass 'sort=False'.\n",
            "\n",
            "To retain the current behavior and silence the warning, pass 'sort=True'.\n",
            "\n",
            "  sort=sort)\n"
          ],
          "name": "stderr"
        },
        {
          "output_type": "stream",
          "text": [
            "up 78.53298\n"
          ],
          "name": "stdout"
        },
        {
          "output_type": "stream",
          "text": [
            "/usr/local/lib/python3.6/dist-packages/pandas/core/frame.py:6692: FutureWarning: Sorting because non-concatenation axis is not aligned. A future version\n",
            "of pandas will change to not sort by default.\n",
            "\n",
            "To accept the future behavior, pass 'sort=False'.\n",
            "\n",
            "To retain the current behavior and silence the warning, pass 'sort=True'.\n",
            "\n",
            "  sort=sort)\n"
          ],
          "name": "stderr"
        },
        {
          "output_type": "stream",
          "text": [
            "down 78.34683\n"
          ],
          "name": "stdout"
        },
        {
          "output_type": "stream",
          "text": [
            "/usr/local/lib/python3.6/dist-packages/pandas/core/frame.py:6692: FutureWarning: Sorting because non-concatenation axis is not aligned. A future version\n",
            "of pandas will change to not sort by default.\n",
            "\n",
            "To accept the future behavior, pass 'sort=False'.\n",
            "\n",
            "To retain the current behavior and silence the warning, pass 'sort=True'.\n",
            "\n",
            "  sort=sort)\n"
          ],
          "name": "stderr"
        },
        {
          "output_type": "stream",
          "text": [
            "up 78.49372\n"
          ],
          "name": "stdout"
        },
        {
          "output_type": "stream",
          "text": [
            "/usr/local/lib/python3.6/dist-packages/pandas/core/frame.py:6692: FutureWarning: Sorting because non-concatenation axis is not aligned. A future version\n",
            "of pandas will change to not sort by default.\n",
            "\n",
            "To accept the future behavior, pass 'sort=False'.\n",
            "\n",
            "To retain the current behavior and silence the warning, pass 'sort=True'.\n",
            "\n",
            "  sort=sort)\n"
          ],
          "name": "stderr"
        },
        {
          "output_type": "stream",
          "text": [
            "down 78.3092\n"
          ],
          "name": "stdout"
        },
        {
          "output_type": "stream",
          "text": [
            "/usr/local/lib/python3.6/dist-packages/pandas/core/frame.py:6692: FutureWarning: Sorting because non-concatenation axis is not aligned. A future version\n",
            "of pandas will change to not sort by default.\n",
            "\n",
            "To accept the future behavior, pass 'sort=False'.\n",
            "\n",
            "To retain the current behavior and silence the warning, pass 'sort=True'.\n",
            "\n",
            "  sort=sort)\n"
          ],
          "name": "stderr"
        },
        {
          "output_type": "stream",
          "text": [
            "up 78.4548\n"
          ],
          "name": "stdout"
        },
        {
          "output_type": "stream",
          "text": [
            "/usr/local/lib/python3.6/dist-packages/pandas/core/frame.py:6692: FutureWarning: Sorting because non-concatenation axis is not aligned. A future version\n",
            "of pandas will change to not sort by default.\n",
            "\n",
            "To accept the future behavior, pass 'sort=False'.\n",
            "\n",
            "To retain the current behavior and silence the warning, pass 'sort=True'.\n",
            "\n",
            "  sort=sort)\n"
          ],
          "name": "stderr"
        },
        {
          "output_type": "stream",
          "text": [
            "down 78.27188\n"
          ],
          "name": "stdout"
        },
        {
          "output_type": "stream",
          "text": [
            "/usr/local/lib/python3.6/dist-packages/pandas/core/frame.py:6692: FutureWarning: Sorting because non-concatenation axis is not aligned. A future version\n",
            "of pandas will change to not sort by default.\n",
            "\n",
            "To accept the future behavior, pass 'sort=False'.\n",
            "\n",
            "To retain the current behavior and silence the warning, pass 'sort=True'.\n",
            "\n",
            "  sort=sort)\n"
          ],
          "name": "stderr"
        },
        {
          "output_type": "stream",
          "text": [
            "up 78.41623\n"
          ],
          "name": "stdout"
        },
        {
          "output_type": "stream",
          "text": [
            "/usr/local/lib/python3.6/dist-packages/pandas/core/frame.py:6692: FutureWarning: Sorting because non-concatenation axis is not aligned. A future version\n",
            "of pandas will change to not sort by default.\n",
            "\n",
            "To accept the future behavior, pass 'sort=False'.\n",
            "\n",
            "To retain the current behavior and silence the warning, pass 'sort=True'.\n",
            "\n",
            "  sort=sort)\n"
          ],
          "name": "stderr"
        },
        {
          "output_type": "stream",
          "text": [
            "down 78.23488\n"
          ],
          "name": "stdout"
        },
        {
          "output_type": "stream",
          "text": [
            "/usr/local/lib/python3.6/dist-packages/pandas/core/frame.py:6692: FutureWarning: Sorting because non-concatenation axis is not aligned. A future version\n",
            "of pandas will change to not sort by default.\n",
            "\n",
            "To accept the future behavior, pass 'sort=False'.\n",
            "\n",
            "To retain the current behavior and silence the warning, pass 'sort=True'.\n",
            "\n",
            "  sort=sort)\n"
          ],
          "name": "stderr"
        },
        {
          "output_type": "stream",
          "text": [
            "up 78.37799\n"
          ],
          "name": "stdout"
        },
        {
          "output_type": "stream",
          "text": [
            "/usr/local/lib/python3.6/dist-packages/pandas/core/frame.py:6692: FutureWarning: Sorting because non-concatenation axis is not aligned. A future version\n",
            "of pandas will change to not sort by default.\n",
            "\n",
            "To accept the future behavior, pass 'sort=False'.\n",
            "\n",
            "To retain the current behavior and silence the warning, pass 'sort=True'.\n",
            "\n",
            "  sort=sort)\n"
          ],
          "name": "stderr"
        },
        {
          "output_type": "stream",
          "text": [
            "down 78.19819\n"
          ],
          "name": "stdout"
        },
        {
          "output_type": "stream",
          "text": [
            "/usr/local/lib/python3.6/dist-packages/pandas/core/frame.py:6692: FutureWarning: Sorting because non-concatenation axis is not aligned. A future version\n",
            "of pandas will change to not sort by default.\n",
            "\n",
            "To accept the future behavior, pass 'sort=False'.\n",
            "\n",
            "To retain the current behavior and silence the warning, pass 'sort=True'.\n",
            "\n",
            "  sort=sort)\n"
          ],
          "name": "stderr"
        },
        {
          "output_type": "stream",
          "text": [
            "up 78.34009\n"
          ],
          "name": "stdout"
        },
        {
          "output_type": "stream",
          "text": [
            "/usr/local/lib/python3.6/dist-packages/pandas/core/frame.py:6692: FutureWarning: Sorting because non-concatenation axis is not aligned. A future version\n",
            "of pandas will change to not sort by default.\n",
            "\n",
            "To accept the future behavior, pass 'sort=False'.\n",
            "\n",
            "To retain the current behavior and silence the warning, pass 'sort=True'.\n",
            "\n",
            "  sort=sort)\n"
          ],
          "name": "stderr"
        },
        {
          "output_type": "stream",
          "text": [
            "down 78.161804\n"
          ],
          "name": "stdout"
        },
        {
          "output_type": "stream",
          "text": [
            "/usr/local/lib/python3.6/dist-packages/pandas/core/frame.py:6692: FutureWarning: Sorting because non-concatenation axis is not aligned. A future version\n",
            "of pandas will change to not sort by default.\n",
            "\n",
            "To accept the future behavior, pass 'sort=False'.\n",
            "\n",
            "To retain the current behavior and silence the warning, pass 'sort=True'.\n",
            "\n",
            "  sort=sort)\n"
          ],
          "name": "stderr"
        },
        {
          "output_type": "stream",
          "text": [
            "up 78.3025\n"
          ],
          "name": "stdout"
        },
        {
          "output_type": "stream",
          "text": [
            "/usr/local/lib/python3.6/dist-packages/pandas/core/frame.py:6692: FutureWarning: Sorting because non-concatenation axis is not aligned. A future version\n",
            "of pandas will change to not sort by default.\n",
            "\n",
            "To accept the future behavior, pass 'sort=False'.\n",
            "\n",
            "To retain the current behavior and silence the warning, pass 'sort=True'.\n",
            "\n",
            "  sort=sort)\n"
          ],
          "name": "stderr"
        },
        {
          "output_type": "stream",
          "text": [
            "down 78.125725\n"
          ],
          "name": "stdout"
        },
        {
          "output_type": "stream",
          "text": [
            "/usr/local/lib/python3.6/dist-packages/pandas/core/frame.py:6692: FutureWarning: Sorting because non-concatenation axis is not aligned. A future version\n",
            "of pandas will change to not sort by default.\n",
            "\n",
            "To accept the future behavior, pass 'sort=False'.\n",
            "\n",
            "To retain the current behavior and silence the warning, pass 'sort=True'.\n",
            "\n",
            "  sort=sort)\n"
          ],
          "name": "stderr"
        },
        {
          "output_type": "stream",
          "text": [
            "up 78.26524\n"
          ],
          "name": "stdout"
        },
        {
          "output_type": "stream",
          "text": [
            "/usr/local/lib/python3.6/dist-packages/pandas/core/frame.py:6692: FutureWarning: Sorting because non-concatenation axis is not aligned. A future version\n",
            "of pandas will change to not sort by default.\n",
            "\n",
            "To accept the future behavior, pass 'sort=False'.\n",
            "\n",
            "To retain the current behavior and silence the warning, pass 'sort=True'.\n",
            "\n",
            "  sort=sort)\n"
          ],
          "name": "stderr"
        },
        {
          "output_type": "stream",
          "text": [
            "down 78.08995\n"
          ],
          "name": "stdout"
        },
        {
          "output_type": "stream",
          "text": [
            "/usr/local/lib/python3.6/dist-packages/pandas/core/frame.py:6692: FutureWarning: Sorting because non-concatenation axis is not aligned. A future version\n",
            "of pandas will change to not sort by default.\n",
            "\n",
            "To accept the future behavior, pass 'sort=False'.\n",
            "\n",
            "To retain the current behavior and silence the warning, pass 'sort=True'.\n",
            "\n",
            "  sort=sort)\n"
          ],
          "name": "stderr"
        },
        {
          "output_type": "stream",
          "text": [
            "up 78.2283\n"
          ],
          "name": "stdout"
        },
        {
          "output_type": "stream",
          "text": [
            "/usr/local/lib/python3.6/dist-packages/pandas/core/frame.py:6692: FutureWarning: Sorting because non-concatenation axis is not aligned. A future version\n",
            "of pandas will change to not sort by default.\n",
            "\n",
            "To accept the future behavior, pass 'sort=False'.\n",
            "\n",
            "To retain the current behavior and silence the warning, pass 'sort=True'.\n",
            "\n",
            "  sort=sort)\n"
          ],
          "name": "stderr"
        },
        {
          "output_type": "stream",
          "text": [
            "down 78.054474\n"
          ],
          "name": "stdout"
        },
        {
          "output_type": "stream",
          "text": [
            "/usr/local/lib/python3.6/dist-packages/pandas/core/frame.py:6692: FutureWarning: Sorting because non-concatenation axis is not aligned. A future version\n",
            "of pandas will change to not sort by default.\n",
            "\n",
            "To accept the future behavior, pass 'sort=False'.\n",
            "\n",
            "To retain the current behavior and silence the warning, pass 'sort=True'.\n",
            "\n",
            "  sort=sort)\n"
          ],
          "name": "stderr"
        },
        {
          "output_type": "stream",
          "text": [
            "up 78.191666\n"
          ],
          "name": "stdout"
        },
        {
          "output_type": "stream",
          "text": [
            "/usr/local/lib/python3.6/dist-packages/pandas/core/frame.py:6692: FutureWarning: Sorting because non-concatenation axis is not aligned. A future version\n",
            "of pandas will change to not sort by default.\n",
            "\n",
            "To accept the future behavior, pass 'sort=False'.\n",
            "\n",
            "To retain the current behavior and silence the warning, pass 'sort=True'.\n",
            "\n",
            "  sort=sort)\n"
          ],
          "name": "stderr"
        },
        {
          "output_type": "stream",
          "text": [
            "down 78.01928\n"
          ],
          "name": "stdout"
        },
        {
          "output_type": "stream",
          "text": [
            "/usr/local/lib/python3.6/dist-packages/pandas/core/frame.py:6692: FutureWarning: Sorting because non-concatenation axis is not aligned. A future version\n",
            "of pandas will change to not sort by default.\n",
            "\n",
            "To accept the future behavior, pass 'sort=False'.\n",
            "\n",
            "To retain the current behavior and silence the warning, pass 'sort=True'.\n",
            "\n",
            "  sort=sort)\n"
          ],
          "name": "stderr"
        },
        {
          "output_type": "stream",
          "text": [
            "up 78.155334\n"
          ],
          "name": "stdout"
        },
        {
          "output_type": "stream",
          "text": [
            "/usr/local/lib/python3.6/dist-packages/pandas/core/frame.py:6692: FutureWarning: Sorting because non-concatenation axis is not aligned. A future version\n",
            "of pandas will change to not sort by default.\n",
            "\n",
            "To accept the future behavior, pass 'sort=False'.\n",
            "\n",
            "To retain the current behavior and silence the warning, pass 'sort=True'.\n",
            "\n",
            "  sort=sort)\n"
          ],
          "name": "stderr"
        }
      ]
    },
    {
      "cell_type": "code",
      "metadata": {
        "id": "QIc06KAiD2Sl",
        "colab_type": "code",
        "colab": {
          "base_uri": "https://localhost:8080/",
          "height": 390
        },
        "outputId": "62fc92f1-9dcd-482e-e6f1-0712fddf1966"
      },
      "source": [
        "df.tail(10)"
      ],
      "execution_count": 159,
      "outputs": [
        {
          "output_type": "execute_result",
          "data": {
            "text/html": [
              "<div>\n",
              "<style scoped>\n",
              "    .dataframe tbody tr th:only-of-type {\n",
              "        vertical-align: middle;\n",
              "    }\n",
              "\n",
              "    .dataframe tbody tr th {\n",
              "        vertical-align: top;\n",
              "    }\n",
              "\n",
              "    .dataframe thead th {\n",
              "        text-align: right;\n",
              "    }\n",
              "</style>\n",
              "<table border=\"1\" class=\"dataframe\">\n",
              "  <thead>\n",
              "    <tr style=\"text-align: right;\">\n",
              "      <th></th>\n",
              "      <th>price</th>\n",
              "    </tr>\n",
              "    <tr>\n",
              "      <th>date</th>\n",
              "      <th></th>\n",
              "    </tr>\n",
              "  </thead>\n",
              "  <tbody>\n",
              "    <tr>\n",
              "      <th>2019-11-07</th>\n",
              "      <td>78.161804</td>\n",
              "    </tr>\n",
              "    <tr>\n",
              "      <th>2019-11-08</th>\n",
              "      <td>78.302498</td>\n",
              "    </tr>\n",
              "    <tr>\n",
              "      <th>2019-11-09</th>\n",
              "      <td>78.125725</td>\n",
              "    </tr>\n",
              "    <tr>\n",
              "      <th>2019-11-10</th>\n",
              "      <td>78.265244</td>\n",
              "    </tr>\n",
              "    <tr>\n",
              "      <th>2019-11-11</th>\n",
              "      <td>78.089951</td>\n",
              "    </tr>\n",
              "    <tr>\n",
              "      <th>2019-11-12</th>\n",
              "      <td>78.228302</td>\n",
              "    </tr>\n",
              "    <tr>\n",
              "      <th>2019-11-13</th>\n",
              "      <td>78.054474</td>\n",
              "    </tr>\n",
              "    <tr>\n",
              "      <th>2019-11-14</th>\n",
              "      <td>78.191666</td>\n",
              "    </tr>\n",
              "    <tr>\n",
              "      <th>2019-11-15</th>\n",
              "      <td>78.019279</td>\n",
              "    </tr>\n",
              "    <tr>\n",
              "      <th>2019-11-16</th>\n",
              "      <td>78.155334</td>\n",
              "    </tr>\n",
              "  </tbody>\n",
              "</table>\n",
              "</div>"
            ],
            "text/plain": [
              "                price\n",
              "date                 \n",
              "2019-11-07  78.161804\n",
              "2019-11-08  78.302498\n",
              "2019-11-09  78.125725\n",
              "2019-11-10  78.265244\n",
              "2019-11-11  78.089951\n",
              "2019-11-12  78.228302\n",
              "2019-11-13  78.054474\n",
              "2019-11-14  78.191666\n",
              "2019-11-15  78.019279\n",
              "2019-11-16  78.155334"
            ]
          },
          "metadata": {
            "tags": []
          },
          "execution_count": 159
        }
      ]
    },
    {
      "cell_type": "code",
      "metadata": {
        "id": "AVUTUsgkiHdh",
        "colab_type": "code",
        "colab": {
          "base_uri": "https://localhost:8080/",
          "height": 1000
        },
        "outputId": "e9cb40f9-81ee-4224-f432-e001324282e6"
      },
      "source": [
        "df_predict"
      ],
      "execution_count": 158,
      "outputs": [
        {
          "output_type": "execute_result",
          "data": {
            "text/html": [
              "<div>\n",
              "<style scoped>\n",
              "    .dataframe tbody tr th:only-of-type {\n",
              "        vertical-align: middle;\n",
              "    }\n",
              "\n",
              "    .dataframe tbody tr th {\n",
              "        vertical-align: top;\n",
              "    }\n",
              "\n",
              "    .dataframe thead th {\n",
              "        text-align: right;\n",
              "    }\n",
              "</style>\n",
              "<table border=\"1\" class=\"dataframe\">\n",
              "  <thead>\n",
              "    <tr style=\"text-align: right;\">\n",
              "      <th></th>\n",
              "      <th>Unnamed: 0</th>\n",
              "      <th>date</th>\n",
              "      <th>price</th>\n",
              "      <th>trend</th>\n",
              "    </tr>\n",
              "  </thead>\n",
              "  <tbody>\n",
              "    <tr>\n",
              "      <th>0</th>\n",
              "      <td>0.0</td>\n",
              "      <td>2019-10-16</td>\n",
              "      <td>78.579704</td>\n",
              "      <td>down</td>\n",
              "    </tr>\n",
              "    <tr>\n",
              "      <th>1</th>\n",
              "      <td>NaN</td>\n",
              "      <td>2019-10-17</td>\n",
              "      <td>78.734657</td>\n",
              "      <td>up</td>\n",
              "    </tr>\n",
              "    <tr>\n",
              "      <th>2</th>\n",
              "      <td>NaN</td>\n",
              "      <td>2019-10-18</td>\n",
              "      <td>78.540024</td>\n",
              "      <td>down</td>\n",
              "    </tr>\n",
              "    <tr>\n",
              "      <th>3</th>\n",
              "      <td>NaN</td>\n",
              "      <td>2019-10-19</td>\n",
              "      <td>78.693588</td>\n",
              "      <td>up</td>\n",
              "    </tr>\n",
              "    <tr>\n",
              "      <th>4</th>\n",
              "      <td>NaN</td>\n",
              "      <td>2019-10-20</td>\n",
              "      <td>78.500702</td>\n",
              "      <td>down</td>\n",
              "    </tr>\n",
              "    <tr>\n",
              "      <th>5</th>\n",
              "      <td>NaN</td>\n",
              "      <td>2019-10-21</td>\n",
              "      <td>78.652893</td>\n",
              "      <td>up</td>\n",
              "    </tr>\n",
              "    <tr>\n",
              "      <th>6</th>\n",
              "      <td>NaN</td>\n",
              "      <td>2019-10-22</td>\n",
              "      <td>78.461731</td>\n",
              "      <td>down</td>\n",
              "    </tr>\n",
              "    <tr>\n",
              "      <th>7</th>\n",
              "      <td>NaN</td>\n",
              "      <td>2019-10-23</td>\n",
              "      <td>78.612564</td>\n",
              "      <td>up</td>\n",
              "    </tr>\n",
              "    <tr>\n",
              "      <th>8</th>\n",
              "      <td>NaN</td>\n",
              "      <td>2019-10-24</td>\n",
              "      <td>78.423096</td>\n",
              "      <td>down</td>\n",
              "    </tr>\n",
              "    <tr>\n",
              "      <th>9</th>\n",
              "      <td>NaN</td>\n",
              "      <td>2019-10-25</td>\n",
              "      <td>78.572594</td>\n",
              "      <td>up</td>\n",
              "    </tr>\n",
              "    <tr>\n",
              "      <th>10</th>\n",
              "      <td>NaN</td>\n",
              "      <td>2019-10-26</td>\n",
              "      <td>78.384796</td>\n",
              "      <td>down</td>\n",
              "    </tr>\n",
              "    <tr>\n",
              "      <th>11</th>\n",
              "      <td>NaN</td>\n",
              "      <td>2019-10-27</td>\n",
              "      <td>78.532982</td>\n",
              "      <td>up</td>\n",
              "    </tr>\n",
              "    <tr>\n",
              "      <th>12</th>\n",
              "      <td>NaN</td>\n",
              "      <td>2019-10-28</td>\n",
              "      <td>78.346832</td>\n",
              "      <td>down</td>\n",
              "    </tr>\n",
              "    <tr>\n",
              "      <th>13</th>\n",
              "      <td>NaN</td>\n",
              "      <td>2019-10-29</td>\n",
              "      <td>78.493721</td>\n",
              "      <td>up</td>\n",
              "    </tr>\n",
              "    <tr>\n",
              "      <th>14</th>\n",
              "      <td>NaN</td>\n",
              "      <td>2019-10-30</td>\n",
              "      <td>78.309196</td>\n",
              "      <td>down</td>\n",
              "    </tr>\n",
              "    <tr>\n",
              "      <th>15</th>\n",
              "      <td>NaN</td>\n",
              "      <td>2019-10-31</td>\n",
              "      <td>78.454803</td>\n",
              "      <td>up</td>\n",
              "    </tr>\n",
              "    <tr>\n",
              "      <th>16</th>\n",
              "      <td>NaN</td>\n",
              "      <td>2019-11-01</td>\n",
              "      <td>78.271881</td>\n",
              "      <td>down</td>\n",
              "    </tr>\n",
              "    <tr>\n",
              "      <th>17</th>\n",
              "      <td>NaN</td>\n",
              "      <td>2019-11-02</td>\n",
              "      <td>78.416229</td>\n",
              "      <td>up</td>\n",
              "    </tr>\n",
              "    <tr>\n",
              "      <th>18</th>\n",
              "      <td>NaN</td>\n",
              "      <td>2019-11-03</td>\n",
              "      <td>78.234879</td>\n",
              "      <td>down</td>\n",
              "    </tr>\n",
              "    <tr>\n",
              "      <th>19</th>\n",
              "      <td>NaN</td>\n",
              "      <td>2019-11-04</td>\n",
              "      <td>78.377991</td>\n",
              "      <td>up</td>\n",
              "    </tr>\n",
              "    <tr>\n",
              "      <th>20</th>\n",
              "      <td>NaN</td>\n",
              "      <td>2019-11-05</td>\n",
              "      <td>78.198189</td>\n",
              "      <td>down</td>\n",
              "    </tr>\n",
              "    <tr>\n",
              "      <th>21</th>\n",
              "      <td>NaN</td>\n",
              "      <td>2019-11-06</td>\n",
              "      <td>78.340088</td>\n",
              "      <td>up</td>\n",
              "    </tr>\n",
              "    <tr>\n",
              "      <th>22</th>\n",
              "      <td>NaN</td>\n",
              "      <td>2019-11-07</td>\n",
              "      <td>78.161804</td>\n",
              "      <td>down</td>\n",
              "    </tr>\n",
              "    <tr>\n",
              "      <th>23</th>\n",
              "      <td>NaN</td>\n",
              "      <td>2019-11-08</td>\n",
              "      <td>78.302498</td>\n",
              "      <td>up</td>\n",
              "    </tr>\n",
              "    <tr>\n",
              "      <th>24</th>\n",
              "      <td>NaN</td>\n",
              "      <td>2019-11-09</td>\n",
              "      <td>78.125725</td>\n",
              "      <td>down</td>\n",
              "    </tr>\n",
              "    <tr>\n",
              "      <th>25</th>\n",
              "      <td>NaN</td>\n",
              "      <td>2019-11-10</td>\n",
              "      <td>78.265244</td>\n",
              "      <td>up</td>\n",
              "    </tr>\n",
              "    <tr>\n",
              "      <th>26</th>\n",
              "      <td>NaN</td>\n",
              "      <td>2019-11-11</td>\n",
              "      <td>78.089951</td>\n",
              "      <td>down</td>\n",
              "    </tr>\n",
              "    <tr>\n",
              "      <th>27</th>\n",
              "      <td>NaN</td>\n",
              "      <td>2019-11-12</td>\n",
              "      <td>78.228302</td>\n",
              "      <td>up</td>\n",
              "    </tr>\n",
              "    <tr>\n",
              "      <th>28</th>\n",
              "      <td>NaN</td>\n",
              "      <td>2019-11-13</td>\n",
              "      <td>78.054474</td>\n",
              "      <td>down</td>\n",
              "    </tr>\n",
              "    <tr>\n",
              "      <th>29</th>\n",
              "      <td>NaN</td>\n",
              "      <td>2019-11-14</td>\n",
              "      <td>78.191666</td>\n",
              "      <td>up</td>\n",
              "    </tr>\n",
              "    <tr>\n",
              "      <th>30</th>\n",
              "      <td>NaN</td>\n",
              "      <td>2019-11-15</td>\n",
              "      <td>78.019279</td>\n",
              "      <td>down</td>\n",
              "    </tr>\n",
              "    <tr>\n",
              "      <th>31</th>\n",
              "      <td>NaN</td>\n",
              "      <td>2019-11-16</td>\n",
              "      <td>78.155334</td>\n",
              "      <td>up</td>\n",
              "    </tr>\n",
              "  </tbody>\n",
              "</table>\n",
              "</div>"
            ],
            "text/plain": [
              "    Unnamed: 0        date      price trend\n",
              "0          0.0  2019-10-16  78.579704  down\n",
              "1          NaN  2019-10-17  78.734657    up\n",
              "2          NaN  2019-10-18  78.540024  down\n",
              "3          NaN  2019-10-19  78.693588    up\n",
              "4          NaN  2019-10-20  78.500702  down\n",
              "5          NaN  2019-10-21  78.652893    up\n",
              "6          NaN  2019-10-22  78.461731  down\n",
              "7          NaN  2019-10-23  78.612564    up\n",
              "8          NaN  2019-10-24  78.423096  down\n",
              "9          NaN  2019-10-25  78.572594    up\n",
              "10         NaN  2019-10-26  78.384796  down\n",
              "11         NaN  2019-10-27  78.532982    up\n",
              "12         NaN  2019-10-28  78.346832  down\n",
              "13         NaN  2019-10-29  78.493721    up\n",
              "14         NaN  2019-10-30  78.309196  down\n",
              "15         NaN  2019-10-31  78.454803    up\n",
              "16         NaN  2019-11-01  78.271881  down\n",
              "17         NaN  2019-11-02  78.416229    up\n",
              "18         NaN  2019-11-03  78.234879  down\n",
              "19         NaN  2019-11-04  78.377991    up\n",
              "20         NaN  2019-11-05  78.198189  down\n",
              "21         NaN  2019-11-06  78.340088    up\n",
              "22         NaN  2019-11-07  78.161804  down\n",
              "23         NaN  2019-11-08  78.302498    up\n",
              "24         NaN  2019-11-09  78.125725  down\n",
              "25         NaN  2019-11-10  78.265244    up\n",
              "26         NaN  2019-11-11  78.089951  down\n",
              "27         NaN  2019-11-12  78.228302    up\n",
              "28         NaN  2019-11-13  78.054474  down\n",
              "29         NaN  2019-11-14  78.191666    up\n",
              "30         NaN  2019-11-15  78.019279  down\n",
              "31         NaN  2019-11-16  78.155334    up"
            ]
          },
          "metadata": {
            "tags": []
          },
          "execution_count": 158
        }
      ]
    }
  ]
}